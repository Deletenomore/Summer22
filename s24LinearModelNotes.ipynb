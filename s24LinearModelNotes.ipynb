{
  "nbformat": 4,
  "nbformat_minor": 0,
  "metadata": {
    "colab": {
      "provenance": [],
      "authorship_tag": "ABX9TyMp83S/DnIxKU9weXnJxfPG",
      "include_colab_link": true
    },
    "kernelspec": {
      "name": "python3",
      "display_name": "Python 3"
    }
  },
  "cells": [
    {
      "cell_type": "markdown",
      "metadata": {
        "id": "view-in-github",
        "colab_type": "text"
      },
      "source": [
        "<a href=\"https://colab.research.google.com/github/everestso/Summer22/blob/main/s24LinearModelNotes.ipynb\" target=\"_parent\"><img src=\"https://colab.research.google.com/assets/colab-badge.svg\" alt=\"Open In Colab\"/></a>"
      ]
    },
    {
      "cell_type": "markdown",
      "metadata": {
        "id": "97aWcAkn-820"
      },
      "source": [
        "# Linear Models"
      ]
    },
    {
      "cell_type": "code",
      "metadata": {
        "id": "O53BTmut-WDE"
      },
      "source": [
        "### Includes\n",
        "# Common imports\n",
        "import numpy as np\n",
        "\n",
        "# to make this notebook's output stable across runs\n",
        "np.random.seed(42)\n",
        "\n",
        "# To plot pretty figures\n",
        "####%matplotlib inline\n",
        "import matplotlib\n",
        "import matplotlib.pyplot as plt\n",
        "\n",
        "import pandas as pd\n",
        "\n",
        "import math"
      ],
      "execution_count": 10,
      "outputs": []
    },
    {
      "cell_type": "code",
      "metadata": {
        "id": "0dk6lRzv0pEE",
        "outputId": "863585ca-e641-47fd-fb56-bb6e5fefa689",
        "colab": {
          "base_uri": "https://localhost:8080/"
        }
      },
      "source": [
        "import os\n",
        "from google.colab import drive\n",
        "\n",
        "drive.mount('/content/gdrive')"
      ],
      "execution_count": null,
      "outputs": [
        {
          "output_type": "stream",
          "name": "stdout",
          "text": [
            "Mounted at /content/gdrive\n"
          ]
        }
      ]
    },
    {
      "cell_type": "code",
      "metadata": {
        "id": "cX2Qjzgq_jtN",
        "outputId": "27e90ea7-635d-4b77-94d9-e3a2f426861a",
        "colab": {
          "base_uri": "https://localhost:8080/",
          "height": 448
        }
      },
      "source": [
        "eps = 10.0\n",
        "coef = (1, 2)\n",
        "w = (0, 0)\n",
        "Noise = lambda eps: np.random.random()*eps - (eps/2)\n",
        "\n",
        "\n",
        "F = lambda w, x: w[0] + w[1]*x\n",
        "X = [-7, -2, 1, 3, 7]\n",
        "Y = [round(F(coef, x) + Noise(eps),2) for x in X]\n",
        "print (Y)\n",
        "\n",
        "plt.plot(X,Y,'.')\n",
        "Hxs = [F(coef, x) for x in X]\n",
        "\n",
        "plt.plot(X, Y, '.')\n",
        "plt.plot(X, Hxs, '-', color=\"green\")\n",
        "plt.show()"
      ],
      "execution_count": 11,
      "outputs": [
        {
          "output_type": "stream",
          "name": "stdout",
          "text": [
            "[-14.25, 1.51, 5.32, 7.99, 11.56]\n"
          ]
        },
        {
          "output_type": "display_data",
          "data": {
            "text/plain": [
              "<Figure size 640x480 with 1 Axes>"
            ],
            "image/png": "[encoded data removed]"
          },
          "metadata": {}
        }
      ]
    },
    {
      "cell_type": "code",
      "metadata": {
        "id": "-udX_q-mCBuy",
        "outputId": "1390bcae-027a-4033-a820-a98e6dfa1a46",
        "colab": {
          "base_uri": "https://localhost:8080/"
        }
      },
      "source": [
        "# Print Examples:\n",
        "X = [-7, -2, 1, 3, 7]\n",
        "Y = [-14.25, 1.51, 5.32, 7.99, 11.56]\n",
        "Examples = list(zip(X,Y))\n",
        "\n",
        "for p in Examples:\n",
        "  print (p)"
      ],
      "execution_count": 12,
      "outputs": [
        {
          "output_type": "stream",
          "name": "stdout",
          "text": [
            "(-7, -14.25)\n",
            "(-2, 1.51)\n",
            "(1, 5.32)\n",
            "(3, 7.99)\n",
            "(7, 11.56)\n"
          ]
        }
      ]
    },
    {
      "cell_type": "code",
      "metadata": {
        "id": "d5PyjFepD4O0",
        "outputId": "3b8dfdce-ebdb-4276-d92c-4c9c814c0f61",
        "colab": {
          "base_uri": "https://localhost:8080/",
          "height": 430
        }
      },
      "source": [
        "# Plot Model\n",
        "def PlotModel(X, Y, model):\n",
        "  Hxs = [F(model, x) for x in X]\n",
        "\n",
        "  plt.plot(X, Y, '.')\n",
        "  plt.plot(X, Hxs, '-', color=\"red\")\n",
        "  plt.show()\n",
        "\n",
        "PlotModel( X, Y , (0,0))"
      ],
      "execution_count": 13,
      "outputs": [
        {
          "output_type": "display_data",
          "data": {
            "text/plain": [
              "<Figure size 640x480 with 1 Axes>"
            ],
            "image/png": "[encoded data removed]"
          },
          "metadata": {}
        }
      ]
    },
    {
      "cell_type": "code",
      "metadata": {
        "id": "j8t8XSMbYfTe"
      },
      "source": [
        "SquaredError = lambda X, Y, w : sum([(y-F(w, x))**2 for x,y in zip(X,Y)])\n",
        "SquaredErrorLogistic = lambda X, Y, w : sum([(y-G(F(w, x)))**2 for x,y in zip(X,Y)])\n"
      ],
      "execution_count": 14,
      "outputs": []
    },
    {
      "cell_type": "code",
      "metadata": {
        "id": "p631BhDHLcT6",
        "colab": {
          "base_uri": "https://localhost:8080/"
        },
        "outputId": "31aed753-9b16-47f6-d09f-a0e7cb093f18"
      },
      "source": [
        "print (\"X=\", X)\n",
        "print (\"Y=\", Y)\n",
        "w= (0,0)\n",
        "w=(0,1)\n",
        "w=(0,0)\n",
        "Predicts = [F(w, x) for x in X]\n",
        "Errors = [x*(y-F(w, x)) for x, y in zip(X,Y)]\n",
        "print (\"Predicts = \", Predicts)\n",
        "print (\"Errors=\", Errors, sum(Errors), sum(Errors)/len(X))\n"
      ],
      "execution_count": 15,
      "outputs": [
        {
          "output_type": "stream",
          "name": "stdout",
          "text": [
            "X= [-7, -2, 1, 3, 7]\n",
            "Y= [-14.25, 1.51, 5.32, 7.99, 11.56]\n",
            "Predicts =  [0, 0, 0, 0, 0]\n",
            "Errors= [99.75, -3.02, 5.32, 23.97, 80.92] 206.94 41.388\n"
          ]
        }
      ]
    },
    {
      "cell_type": "code",
      "metadata": {
        "id": "kR-25-bGZSIa",
        "outputId": "31ec93ce-877a-4877-fe63-a061793b795f",
        "colab": {
          "base_uri": "https://localhost:8080/"
        }
      },
      "source": [
        "ws= [(0,0), (0,1), (1,0), (1,1), (1,2)]\n",
        "for model in ws:\n",
        "  print (f\"{model=}, {SquaredError(X, Y, model)=}\")"
      ],
      "execution_count": 22,
      "outputs": [
        {
          "output_type": "stream",
          "name": "stdout",
          "text": [
            "model=(0, 0), SquaredError(X, Y, model)=431.1187\n",
            "model=(0, 1), SquaredError(X, Y, model)=129.2387\n",
            "model=(1, 0), SquaredError(X, Y, model)=411.8587\n",
            "model=(1, 1), SquaredError(X, Y, model)=113.97870000000002\n",
            "model=(1, 2), SquaredError(X, Y, model)=40.098699999999994\n"
          ]
        }
      ]
    },
    {
      "cell_type": "code",
      "metadata": {
        "id": "g1UAIRzrbFry",
        "outputId": "49c60f31-9163-4d8b-fa1a-6e71c42ff310",
        "colab": {
          "base_uri": "https://localhost:8080/"
        }
      },
      "source": [
        "## Average Gradients\n",
        "w = [0,0]\n",
        "data = [(x,y) for x, y in zip(zip(np.ones(len(X)), X), Y)]\n",
        "Gradients = np.array([ ( (y-F(w,x[1]))*x[0], (y-F(w,x[1]))*x[1] ) for (x, y) in data ])\n",
        "print(Gradients)"
      ],
      "execution_count": 48,
      "outputs": [
        {
          "output_type": "stream",
          "name": "stdout",
          "text": [
            "[[-14.25  99.75]\n",
            " [  1.51  -3.02]\n",
            " [  5.32   5.32]\n",
            " [  7.99  23.97]\n",
            " [ 11.56  80.92]]\n"
          ]
        }
      ]
    },
    {
      "cell_type": "code",
      "metadata": {
        "id": "O0PAHyDXjVsf",
        "outputId": "2165fe24-dc40-4369-b1ec-410c77328611",
        "colab": {
          "base_uri": "https://localhost:8080/"
        }
      },
      "source": [
        "GradientBatch = np.array([0.0, 0.0])\n",
        "for g in Gradients:\n",
        "  GradientBatch += g\n",
        "GradientBatch = GradientBatch/len(Gradients)\n",
        "print (GradientBatch)\n",
        "for g in GradientBatch:\n",
        "  print (f\"{g=}\")"
      ],
      "execution_count": 49,
      "outputs": [
        {
          "output_type": "stream",
          "name": "stdout",
          "text": [
            "[ 2.426 41.388]\n",
            "g=2.426\n",
            "g=41.388\n"
          ]
        }
      ]
    },
    {
      "cell_type": "code",
      "metadata": {
        "id": "-5fjGr8AkdzX",
        "outputId": "79addcf0-d4c7-43d4-b1a6-2337529577a9",
        "colab": {
          "base_uri": "https://localhost:8080/"
        }
      },
      "source": [
        "## Try Different Learning Rates\n",
        "print (f\"{w=}, {SquaredError(X, Y, w)=}\")\n",
        "for learningRate, model in [(learningRate, np.add(w, GradientBatch*learningRate)) for learningRate in (0.01, 0.1, 1.0)]:\n",
        "  print (f\"{model=}, {learningRate=}, {SquaredError(X, Y, model)=}\")"
      ],
      "execution_count": 50,
      "outputs": [
        {
          "output_type": "stream",
          "name": "stdout",
          "text": [
            "w=[0, 0], SquaredError(X, Y, w)=431.1187\n",
            "model=array([0.02426, 0.41388]), learningRate=0.01, SquaredError(X, Y, model)=278.461828946\n",
            "model=array([0.2426, 4.1388]), learningRate=0.1, SquaredError(X, Y, model)=635.0997745999998\n",
            "model=array([ 2.426, 41.388]), learningRate=1.0, SquaredError(X, Y, model)=175525.90795999998\n"
          ]
        }
      ]
    },
    {
      "cell_type": "code",
      "metadata": {
        "id": "Hk--iezR7JQQ",
        "outputId": "bf58706f-c35f-47eb-f9cb-635ef498c239",
        "colab": {
          "base_uri": "https://localhost:8080/"
        }
      },
      "source": [
        "print (SquaredError(X, Y, (0.018, 0.452)))\n",
        "print (SquaredError(X, Y, (0.18, 4.52)))\n"
      ],
      "execution_count": null,
      "outputs": [
        {
          "output_type": "stream",
          "name": "stdout",
          "text": [
            "279.28821199999993\n",
            "706.3411999999998\n"
          ]
        }
      ]
    },
    {
      "cell_type": "code",
      "source": [
        "# Algorithm Test\n",
        "learningRate = 0.01\n",
        "w = [0,0]\n",
        "data = [(x,y) for x, y in zip(zip(np.ones(len(X)), X), Y)]\n",
        "Iterations = 0\n",
        "print (f\"{Iterations=}, {w=}  {SquaredError(X, Y, w)=}\")"
      ],
      "metadata": {
        "id": "I5OawmFDNxLA",
        "colab": {
          "base_uri": "https://localhost:8080/"
        },
        "outputId": "4aba1574-47a9-4395-e846-e999575a6779"
      },
      "execution_count": 83,
      "outputs": [
        {
          "output_type": "stream",
          "name": "stdout",
          "text": [
            "Iterations=0, w=[0, 0]  SquaredError(X, Y, w)=431.1187\n"
          ]
        }
      ]
    },
    {
      "cell_type": "code",
      "source": [
        "Iterations = Iterations + 1\n",
        "GradientBatch = np.array([0.0, 0.0])\n",
        "Gradients = np.array([ ( (y-F(w,x[1]))*x[0], (y-F(w,x[1]))*x[1] ) for (x, y) in data ])\n",
        "for g in Gradients:\n",
        "  GradientBatch += g\n",
        "GradientBatch = GradientBatch/len(Gradients)\n",
        "print (GradientBatch)\n",
        "w = np.add(w, GradientBatch*learningRate)\n",
        "print (f\"{Iterations=}, {w=}  {SquaredError(X, Y, w)=}\")\n",
        "#print ( {SquaredError(X, Y, w)=})"
      ],
      "metadata": {
        "colab": {
          "base_uri": "https://localhost:8080/"
        },
        "id": "rpOomy-uO2xK",
        "outputId": "2347382d-dbfd-42fa-a0bf-48ae01adcc68"
      },
      "execution_count": 85,
      "outputs": [
        {
          "output_type": "stream",
          "name": "stdout",
          "text": [
            "[ 2.426 41.388]\n",
            "Iterations=1, w=array([0.02426, 0.41388])  SquaredError(X, Y, w)=278.461828946\n"
          ]
        }
      ]
    },
    {
      "cell_type": "code",
      "metadata": {
        "id": "4SzviiEwmEF4",
        "outputId": "12cd2dcf-46ae-409d-9e9d-06add332593f",
        "colab": {
          "base_uri": "https://localhost:8080/",
          "height": 430
        }
      },
      "source": [
        "PlotModel(X, Y, w)"
      ],
      "execution_count": 86,
      "outputs": [
        {
          "output_type": "display_data",
          "data": {
            "text/plain": [
              "<Figure size 640x480 with 1 Axes>"
            ],
            "image/png": "[encoded data removed]"
          },
          "metadata": {}
        }
      ]
    },
    {
      "cell_type": "markdown",
      "metadata": {
        "id": "nd7eLKfx0wkL"
      },
      "source": [
        "# Logistic Regression"
      ]
    },
    {
      "cell_type": "code",
      "source": [
        "G = lambda xIn: 1/(1+np.e**(-xIn))"
      ],
      "metadata": {
        "id": "Yv7arskBjGIZ"
      },
      "execution_count": null,
      "outputs": []
    },
    {
      "cell_type": "code",
      "metadata": {
        "id": "7E8nsibXrfwR",
        "outputId": "ca174897-935d-44a2-e552-057a74cb1243",
        "colab": {
          "base_uri": "https://localhost:8080/",
          "height": 104
        }
      },
      "source": [
        "Predict = lambda x: 1.0 if x > 0.5 else 0.0\n",
        "w = (0,0)\n",
        "Y = [Predict(G(F(coef, x))) for x in X]\n",
        "for x, y in zip(X, Y):\n",
        "  print (x, y)"
      ],
      "execution_count": null,
      "outputs": [
        {
          "output_type": "stream",
          "text": [
            "-7 0.0\n",
            "-2 0.0\n",
            "1 1.0\n",
            "3 1.0\n",
            "7 1.0\n"
          ],
          "name": "stdout"
        }
      ]
    },
    {
      "cell_type": "code",
      "metadata": {
        "id": "0THLfoDtnq9T",
        "outputId": "e771a55f-eedd-436b-f41f-e6886e5cd35d",
        "colab": {
          "base_uri": "https://localhost:8080/",
          "height": 265
        }
      },
      "source": [
        "def PlotLogisticData(X, Y, model):\n",
        "  posX = []\n",
        "  posY = []\n",
        "  negX = []\n",
        "  negY = []\n",
        "  for x, y in zip(X,Y):\n",
        "    if y:\n",
        "      posX += [x]\n",
        "      posY += [Predict(G(F(model,x)))]\n",
        "    else:\n",
        "      negX += [x]\n",
        "      negY += [Predict(G(F(model,x)))]\n",
        "  plt.plot(posX, posY, '+', color='green')\n",
        "  plt.plot(negX, negY, 'o', color='red')\n",
        "  plt.show()\n",
        "PlotLogisticData(X, Y, w)"
      ],
      "execution_count": null,
      "outputs": [
        {
          "output_type": "display_data",
          "data": {
            "image/png": "[encoded data removed]",
            "text/plain": [
              "<Figure size 432x288 with 1 Axes>"
            ]
          },
          "metadata": {
            "tags": []
          }
        }
      ]
    },
    {
      "cell_type": "code",
      "metadata": {
        "id": "PCgj7bHLPvyM",
        "colab": {
          "base_uri": "https://localhost:8080/",
          "height": 86
        },
        "outputId": "38c32d57-412d-4be3-bdd6-1627792b53a8"
      },
      "source": [
        "print (\"X=\", X)\n",
        "print (\"Y=\", Y)\n",
        "w= (0,0)\n",
        "w=(0,1)\n",
        "w=(0,0)\n",
        "Predicts = [F(w, x) for x in X]\n",
        "Errors = [x*(y-G(F(w, x))) for x, y in zip(X,Y)]\n",
        "print (\"Predicts = \", Predicts)\n",
        "print (\"Errors=\", Errors, sum(Errors), sum(Errors)/len(X))\n"
      ],
      "execution_count": null,
      "outputs": [
        {
          "output_type": "stream",
          "text": [
            "X= [-7, -2, 1, 3, 7]\n",
            "Y= [0.0, 0.0, 1.0, 1.0, 1.0]\n",
            "Predicts =  [0, 0, 0, 0, 0]\n",
            "Errors= [3.5, 1.0, 0.5, 1.5, 3.5] 10.0 2.0\n"
          ],
          "name": "stdout"
        }
      ]
    },
    {
      "cell_type": "code",
      "metadata": {
        "id": "VTCTItCC2fgJ",
        "outputId": "3172beb9-fe01-4372-8fbe-dea83deab284",
        "colab": {
          "base_uri": "https://localhost:8080/",
          "height": 104
        }
      },
      "source": [
        "ws= [(0,0), (0,1), (1,0), (1,1), (1,2)]\n",
        "for model in ws:\n",
        "  print (model, SquaredErrorLogistic(X, Y, model), RoundIt(SquaredErrorLogistic(X, Y, model),0.1) )"
      ],
      "execution_count": null,
      "outputs": [
        {
          "output_type": "stream",
          "text": [
            "(0, 0) 1.25 (1.2, 1.3)\n",
            "(0, 1) 0.0887896982223366 (0.039, 0.139)\n",
            "(1, 0) 1.2858817551625858 (1.236, 1.336)\n",
            "(1, 1) 0.0868685548209095 (0.037, 0.137)\n",
            "(1, 2) 0.004499256912790766 (-0.046, 0.054)\n"
          ],
          "name": "stdout"
        }
      ]
    },
    {
      "cell_type": "code",
      "metadata": {
        "id": "kFEoYgJztCvn",
        "outputId": "4967527d-0a8a-40db-8805-a5dede5d91ef",
        "colab": {
          "base_uri": "https://localhost:8080/",
          "height": 101
        }
      },
      "source": [
        "## Average Gradients\n",
        "w = ws[0]\n",
        "data = [(x,y) for x, y in zip(zip(np.ones(len(X)), X), Y)]\n",
        "Gradients = np.array([ ( (y-G(F(w,x[1])))*x[0], (y-G(F(w,x[1])))*x[1] ) for (x, y) in data ])\n",
        "print(Gradients)"
      ],
      "execution_count": null,
      "outputs": [
        {
          "output_type": "stream",
          "text": [
            "[[-0.5  3.5]\n",
            " [-0.5  1. ]\n",
            " [ 0.5  0.5]\n",
            " [ 0.5  1.5]\n",
            " [ 0.5  3.5]]\n"
          ],
          "name": "stdout"
        }
      ]
    },
    {
      "cell_type": "code",
      "metadata": {
        "id": "Ap9AZTZatT_n",
        "outputId": "8097f26a-a8b8-41da-9343-1dc7e35d41e6",
        "colab": {
          "base_uri": "https://localhost:8080/",
          "height": 50
        }
      },
      "source": [
        "GradientBatch = np.array([0.0, 0.0])\n",
        "for g in Gradients:\n",
        "  GradientBatch += g\n",
        "GradientBatch = GradientBatch/len(Gradients)\n",
        "print (GradientBatch)\n",
        "print (X, Y)"
      ],
      "execution_count": null,
      "outputs": [
        {
          "output_type": "stream",
          "text": [
            "[0.1 2. ]\n",
            "[-7, -2, 1, 3, 7] [0.0, 0.0, 1.0, 1.0, 1.0]\n"
          ],
          "name": "stdout"
        }
      ]
    },
    {
      "cell_type": "code",
      "metadata": {
        "id": "UPCCYrMdtZsf",
        "outputId": "75766115-fce8-4a19-985b-1401dfd2c6c0",
        "colab": {
          "base_uri": "https://localhost:8080/",
          "height": 151
        }
      },
      "source": [
        "wNew = np.add(w, GradientBatch*learningRate)\n",
        "print (wNew)\n",
        "print (w)\n",
        "print (SquaredErrorLogistic(X, Y, (0,0)))\n",
        "print (w, SquaredErrorLogistic(X, Y, w))\n",
        "for model in [np.add(w, GradientBatch*learningRate) for learningRate in (1, 1)]:\n",
        "  print (model, SquaredErrorLogistic(X, Y, model))\n",
        "  print (model, RoundIt(model[0],0.1), RoundIt(model[1],1.0))"
      ],
      "execution_count": null,
      "outputs": [
        {
          "output_type": "stream",
          "text": [
            "[0.01 0.2 ]\n",
            "(0, 0)\n",
            "1.25\n",
            "(0, 0) 1.25\n",
            "[0.1 2. ] 0.012300762094024014\n",
            "[0.1 2. ] (0.05, 0.15) (1.5, 2.5)\n",
            "[0.1 2. ] 0.012300762094024014\n",
            "[0.1 2. ] (0.05, 0.15) (1.5, 2.5)\n"
          ],
          "name": "stdout"
        }
      ]
    },
    {
      "cell_type": "code",
      "metadata": {
        "id": "rrjzRLN6xo-0",
        "outputId": "3e0747b1-f7da-4a03-afd5-d9b13d9abf35",
        "colab": {
          "base_uri": "https://localhost:8080/",
          "height": 282
        }
      },
      "source": [
        "PlotLogisticData(X, Y, (0.1, 2))\n",
        "print (np.log10(2))"
      ],
      "execution_count": null,
      "outputs": [
        {
          "output_type": "display_data",
          "data": {
            "image/png": "[encoded data removed]",
            "text/plain": [
              "<Figure size 432x288 with 1 Axes>"
            ]
          },
          "metadata": {
            "tags": []
          }
        },
        {
          "output_type": "stream",
          "text": [
            "0.3010299956639812\n"
          ],
          "name": "stdout"
        }
      ]
    },
    {
      "cell_type": "code",
      "metadata": {
        "id": "PyZ1eIhaRt8T",
        "colab": {
          "base_uri": "https://localhost:8080/",
          "height": 34
        },
        "outputId": "5f2425ba-430c-4531-85b5-17b9f68df3bc"
      },
      "source": [
        "print (G(14.1))"
      ],
      "execution_count": null,
      "outputs": [
        {
          "output_type": "stream",
          "text": [
            "0.9999992476022669\n"
          ],
          "name": "stdout"
        }
      ]
    }
  ]
}