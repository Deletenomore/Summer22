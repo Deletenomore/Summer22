{
  "nbformat": 4,
  "nbformat_minor": 0,
  "metadata": {
    "colab": {
      "provenance": [],
      "authorship_tag": "ABX9TyMf/GLz9yGNQcpjKOJHaV5F",
      "include_colab_link": true
    },
    "kernelspec": {
      "name": "python3",
      "display_name": "Python 3"
    },
    "language_info": {
      "name": "python"
    }
  },
  "cells": [
    {
      "cell_type": "markdown",
      "metadata": {
        "id": "view-in-github",
        "colab_type": "text"
      },
      "source": [
        "<a href=\"https://colab.research.google.com/github/everestso/Summer22/blob/main/ChatGPT1.ipynb\" target=\"_parent\"><img src=\"https://colab.research.google.com/assets/colab-badge.svg\" alt=\"Open In Colab\"/></a>"
      ]
    },
    {
      "cell_type": "code",
      "source": [
        "!pip install openai\n",
        "!pip install python-dotenv"
      ],
      "metadata": {
        "colab": {
          "base_uri": "https://localhost:8080/"
        },
        "id": "FJODhKhVkRqd",
        "outputId": "78e149eb-e967-4274-b3c3-6bb31662905d"
      },
      "execution_count": null,
      "outputs": [
        {
          "output_type": "stream",
          "name": "stdout",
          "text": [
            "Looking in indexes: https://pypi.org/simple, https://us-python.pkg.dev/colab-wheels/public/simple/\n",
            "Requirement already satisfied: openai in /usr/local/lib/python3.10/dist-packages (0.27.5)\n",
            "Requirement already satisfied: tqdm in /usr/local/lib/python3.10/dist-packages (from openai) (4.65.0)\n",
            "Requirement already satisfied: requests>=2.20 in /usr/local/lib/python3.10/dist-packages (from openai) (2.27.1)\n",
            "Requirement already satisfied: aiohttp in /usr/local/lib/python3.10/dist-packages (from openai) (3.8.4)\n",
            "Requirement already satisfied: charset-normalizer~=2.0.0 in /usr/local/lib/python3.10/dist-packages (from requests>=2.20->openai) (2.0.12)\n",
            "Requirement already satisfied: idna<4,>=2.5 in /usr/local/lib/python3.10/dist-packages (from requests>=2.20->openai) (3.4)\n",
            "Requirement already satisfied: urllib3<1.27,>=1.21.1 in /usr/local/lib/python3.10/dist-packages (from requests>=2.20->openai) (1.26.15)\n",
            "Requirement already satisfied: certifi>=2017.4.17 in /usr/local/lib/python3.10/dist-packages (from requests>=2.20->openai) (2022.12.7)\n",
            "Requirement already satisfied: attrs>=17.3.0 in /usr/local/lib/python3.10/dist-packages (from aiohttp->openai) (23.1.0)\n",
            "Requirement already satisfied: aiosignal>=1.1.2 in /usr/local/lib/python3.10/dist-packages (from aiohttp->openai) (1.3.1)\n",
            "Requirement already satisfied: yarl<2.0,>=1.0 in /usr/local/lib/python3.10/dist-packages (from aiohttp->openai) (1.9.2)\n",
            "Requirement already satisfied: async-timeout<5.0,>=4.0.0a3 in /usr/local/lib/python3.10/dist-packages (from aiohttp->openai) (4.0.2)\n",
            "Requirement already satisfied: frozenlist>=1.1.1 in /usr/local/lib/python3.10/dist-packages (from aiohttp->openai) (1.3.3)\n",
            "Requirement already satisfied: multidict<7.0,>=4.5 in /usr/local/lib/python3.10/dist-packages (from aiohttp->openai) (6.0.4)\n",
            "Looking in indexes: https://pypi.org/simple, https://us-python.pkg.dev/colab-wheels/public/simple/\n",
            "Requirement already satisfied: python-dotenv in /usr/local/lib/python3.10/dist-packages (1.0.0)\n"
          ]
        }
      ]
    },
    {
      "cell_type": "code",
      "source": [
        "from google.colab import drive\n",
        "drive.mount('/content/drive/')"
      ],
      "metadata": {
        "colab": {
          "base_uri": "https://localhost:8080/"
        },
        "id": "9v_igqKotPwx",
        "outputId": "8123db12-ff15-4b4e-be75-c6b7d7023341"
      },
      "execution_count": null,
      "outputs": [
        {
          "output_type": "stream",
          "name": "stdout",
          "text": [
            "Drive already mounted at /content/drive/; to attempt to forcibly remount, call drive.mount(\"/content/drive/\", force_remount=True).\n"
          ]
        }
      ]
    },
    {
      "cell_type": "code",
      "source": [
        "%cd /content/drive/My Drive/Colab Notebooks/\n",
        "f = open(\"ChatGptApi.txt\")\n",
        "s = f.read()\n",
        "f.close()"
      ],
      "metadata": {
        "colab": {
          "base_uri": "https://localhost:8080/"
        },
        "id": "GnQcJJOBvYkp",
        "outputId": "3e5a9a20-698e-440a-80f4-4016f0945a5f"
      },
      "execution_count": null,
      "outputs": [
        {
          "output_type": "stream",
          "name": "stdout",
          "text": [
            "/content/drive/My Drive/Colab Notebooks\n"
          ]
        }
      ]
    },
    {
      "cell_type": "code",
      "execution_count": null,
      "metadata": {
        "id": "uvYVnu0qkLpF"
      },
      "outputs": [],
      "source": [
        "import openai\n",
        "import os\n",
        "import textwrap\n",
        "\n",
        "openai.api_key  =  s"
      ]
    },
    {
      "cell_type": "code",
      "source": [
        "def get_completion(prompt, model=\"gpt-3.5-turbo\"):\n",
        "    messages = [{\"role\": \"user\", \"content\": prompt}]\n",
        "    response = openai.ChatCompletion.create(\n",
        "        model=model,\n",
        "        messages=messages,\n",
        "        temperature=0, # this is the degree of randomness of the model's output\n",
        "    )\n",
        "    return response.choices[0].message[\"content\"]"
      ],
      "metadata": {
        "id": "0peLUIYDl9ok"
      },
      "execution_count": null,
      "outputs": []
    },
    {
      "cell_type": "code",
      "source": [
        "\"\"\"\n",
        " Corey Lynch, Kamelia Aryafar, and Josh Attenberg. 2016. Images Don't Lie: \n",
        " Transferring Deep Visual Semantic Features to Large-Scale Multimodal Learning to Rank. \n",
        " In Proceedings of the 22nd ACM SIGKDD International Conference on Knowledge Discovery and Data Mining (KDD '16). \n",
        " Association for Computing Machinery, New York, NY, USA, 541–548. \n",
        " https://doi.org/10.1145/2939672.2939728\n",
        "\"\"\"\n",
        "\n",
        "text = f\"\"\"\n",
        "Search is at the heart of modern e-commerce. As a result, the task  \\  \n",
        "of ranking search results automatically (learning to rank) is a multibillion  \\  \n",
        "dollar machine learning problem. Traditional models optimize  \\  \n",
        "over a few hand-constructed features based on the item’s text.  \\  \n",
        "In this paper, we introduce a multimodal learning to rank model that  \\  \n",
        "combines these traditional features with visual semantic features  \\  \n",
        "transferred from a deep convolutional neural network. In a large  \\  \n",
        "scale experiment using data from the online marketplace Etsy 1,  \\  \n",
        "we verify that moving to a multimodal representation significantly  \\  \n",
        "improves ranking quality. We show how image features can capture  \\  \n",
        "fine-grained style information not available in a text-only representation.  \\  \n",
        "In addition, we show concrete examples of how image  \\  \n",
        "information can successfully disentangle pairs of highly different  \\  \n",
        "items that are ranked similarly by a text-only model.  \\  \n",
        "\"\"\"\n",
        "prompt = f\"\"\"\n",
        "Summarize the text delimited by triple backticks \\ \n",
        "into a single sentence.\n",
        "```{text}```\n",
        "\"\"\"\n",
        "response = get_completion(prompt)\n",
        "print(\"\\n\".join(textwrap.wrap(response,70)))"
      ],
      "metadata": {
        "colab": {
          "base_uri": "https://localhost:8080/"
        },
        "id": "HkupPHwMmAjz",
        "outputId": "5a517b49-121f-43e8-af39-944eb36b596f"
      },
      "execution_count": 20,
      "outputs": [
        {
          "output_type": "stream",
          "name": "stdout",
          "text": [
            "The paper introduces a multimodal learning to rank model that combines\n",
            "traditional text-based features with visual semantic features\n",
            "transferred from a deep convolutional neural network, showing that\n",
            "this approach significantly improves ranking quality and can capture\n",
            "fine-grained style information not available in a text-only\n",
            "representation.\n"
          ]
        }
      ]
    },
    {
      "cell_type": "code",
      "source": [
        "# https://www.austinchronicle.com/events/film/2022-12-23/whitney-houston-i-wanna-dance-with-somebody/\n",
        "# ★½  (-4)\n",
        "text = f\"\"\"\n",
        "Whitney Houston was an icon, a legend of the music industry and a breathtaking pop idol who cranked out hit after hit, shattering records that previously the Beatles and Elvis held. Houston had enormous range and depth, yet the film about this larger-than-life superstar is somehow one of the flattest, cheapest, and most underwhelming music biopics to ever land on the silver screen.  \\  \n",
        "Directed by Kasi Lemmons (Harriet, Eve’s Bayou), Whitney Houston: I Wanna Dance With Somebody somehow manages to make the life of Houston so painfully dull and thin. Just as the heat begins to rise, the film skips ahead, or around, orbiting the chance to dig deeper, to offer a more meaningful glimpse into the pop star’s history. Anthony McCarten’s script coasts, breezing through Houston’s life with a coolness that is anticlimactic. Father issues, her divorce, queer identity struggles, and addiction are danced around, never really creating a deep impact on an emotional level. When the bombastic moments like Houston’s historic performances in a newly post-apartheid South Africa arrive, they do so with a whimper, with tacky CGI stadiums that bring a tepid energy to the watered-down performances.  \\\n",
        "There’s no bite to Naomi Ackie’s performance, and perhaps that is because she’s not given anything worth chewing on. Even the clothes they drape her in feel cheap and poorly made. One of the film’s greatest injustices is that, after Ackie’s “big” performance of the iconic “I Have Nothing” medley Houston sang at the 1994 American Music Awards, the live broadcast is immediately shown in the credits, highlighting the stark difference in quality. The movie replaces her lush velvet caped black dress with a fast-fashion, wrinkled gown that’s bejeweled with clunky plastic gems. This fizzled ending echoes the sentiment of the entire film, a watered-down TV-soap approach to its dramatic subject.  \\\n",
        "Whitney Houston: I Wanna Dance With Somebody is like the SparkNotes of her life, a smattering of collected moments that feel hollow. The film retroactively makes Baz Luhrmann’s Elvis look like a masterpiece for actually trying to be bedazzling and insane, because Whitney Houston: I Wanna Dance With Somebody is so stale it might as well have been shoved directly onto a streaming platform to wither away forgotten – unlike Houston’s discography, which will be remembered for decades to come.  \n",
        "\"\"\"\n",
        "prompt = f\"\"\"\n",
        "Evaluate the sentiment of the following quote between \"```\" \\  \n",
        "from negative 10 to positive 10 and output for each just the numeric value, \\  \n",
        "do not include any additional text, just the numeric value:\n",
        "```{text}```\n",
        "\"\"\"\n",
        "response = get_completion(prompt)\n",
        "print(\"\\n\".join(textwrap.wrap(response,70)))"
      ],
      "metadata": {
        "colab": {
          "base_uri": "https://localhost:8080/"
        },
        "id": "8pntYAHByTSP",
        "outputId": "fb015520-c037-4c2a-afc8-b96900f36d0a"
      },
      "execution_count": null,
      "outputs": [
        {
          "output_type": "stream",
          "name": "stdout",
          "text": [
            "-8\n"
          ]
        }
      ]
    },
    {
      "cell_type": "code",
      "source": [
        "# https://www.smh.com.au/culture/movies/all-the-boxing-day-movies-reviewed-what-should-you-see-or-skip-20221220-p5c7t1.html\n",
        "# Whitney Houston: I Wanna Dance with Somebody ★★★½  (+4)\n",
        "text = f\"\"\"\n",
        "What more is there to say about Whitney Houston, whose brilliant career, drug-taking and premature death has been hashed over exhaustively on screen and in the tabloids?  \\\n",
        "I Wanna Dance with Somebody tackles that question by taking her story back to the music. It’s written by New Zealander Anthony McCarten, whose screenplay for Bohemian Rhapsody didn’t dilute the tragedies in Freddie Mercury’s short life while still managing to evoke the exhilaration to be had from Queen’s greatest concerts.  \\  \n",
        "It took a delicate touch and other rock stars haven’t been as fortunate. While Rocketman was just as exuberant in doing justice to Elton John as a performer, the Aretha Franklin biopic Respect (2021) became more depressing as it went on. The United States vs. Billie Holiday, also released last year, was the same. It was powerful but it was no celebration. Then there was Baz Luhrmann’s Elvis, which was more glitz than heart, clouded by the decision to tell the tale from the venal viewpoint of Presley’s manager, Colonel Tom Parker.  \\  \n",
        "Members of Houston’s family were interviewed at length for a documentary four years ago. But for this film, also produced with the family’s co-operation, director Kasi Lemmons made extensive use of the singer’s original recordings, including those laid down en route to the final versions. It allowed star Naomi Ackie to take Houston’s false starts, double takes and spontaneous comments as prompts in shaping her performance. Although she was filmed singing, her voice was replaced by Houston’s.  \\  \n",
        "She does well, catching the contradictions in Houston’s character – the naivete, the fear of failure, the rebellious streak and its effect on her religious convictions. But physically, Ackie bears only a superficial resemblance to the singer. With Houston’s image still so fresh in the memory, this is a distraction.  \\  \n",
        "The script is impressionistic in style, covering a lot of ground by being selective and using Houston’s songs to drive the narrative. Much is made of her relationship with the record company chief Clive Davis (one of the film’s producers), who discovered Houston and helped her choose songs for her albums. He’s played by a wryly urbane Stanley Tucci, giving us a character whose iron fist is well covered in velvet. Appalled when Houston takes up smoking, he looks sadly at her as she lights up, remarking that it’s like watching a Stradivarius being left out in the rain.  \\ \n",
        "The film falls a little short of its claim to be warts-and-all, condensing the low points in Houston’s turbulent marriage to Bobby Brown (Ashton Sanders), but it doesn’t hold back in dealing with her father’s financial mismanagement. Nor does it underplay the importance of her enduring friendship with her former lover, Robyn Crawford – played with a lot of verve by Nafessa Williams.  \\  \n",
        "And while it leaves her death off-screen, preferring to go out with the show-stopping medley she delivered at the 1994 American Music Awards, I’m not complaining. Sandra Hall\n",
        "\"\"\"\n",
        "prompt = f\"\"\"\n",
        "Evaluate the sentiment of the following quote between \"```\" \\  \n",
        "from negative 10 to positive 10 and output for each just the numeric value, \\  \n",
        "do not include any additional text, just the numeric value:\n",
        "```{text}```\n",
        "\"\"\"\n",
        "response = get_completion(prompt)\n",
        "print(response)"
      ],
      "metadata": {
        "colab": {
          "base_uri": "https://localhost:8080/"
        },
        "id": "kz51EdyezVp7",
        "outputId": "40e220a5-54bf-45d4-c3f5-204f2b30a8ac"
      },
      "execution_count": null,
      "outputs": [
        {
          "output_type": "stream",
          "name": "stdout",
          "text": [
            "Sentiment score: 5\n"
          ]
        }
      ]
    }
  ]
}