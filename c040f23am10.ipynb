{
  "nbformat": 4,
  "nbformat_minor": 0,
  "metadata": {
    "colab": {
      "provenance": [],
      "authorship_tag": "ABX9TyMsL5LJcuF8ymrykHFibcap",
      "include_colab_link": true
    },
    "kernelspec": {
      "name": "python3",
      "display_name": "Python 3"
    },
    "language_info": {
      "name": "python"
    }
  },
  "cells": [
    {
      "cell_type": "markdown",
      "metadata": {
        "id": "view-in-github",
        "colab_type": "text"
      },
      "source": [
        "<a href=\"https://colab.research.google.com/github/everestso/Summer22/blob/main/c040f23am10.ipynb\" target=\"_parent\"><img src=\"https://colab.research.google.com/assets/colab-badge.svg\" alt=\"Open In Colab\"/></a>"
      ]
    },
    {
      "cell_type": "markdown",
      "source": [
        "# A Little Latex\n",
        "\n",
        "e = \\mathop {\\lim }\\limits_{n \\to \\infty } \\left( {1 + \\frac{1}{n}} \\right)^n\n",
        "\n",
        "$e = \\mathop {\\lim }\\limits_{n \\to \\infty } \\left( {1 + \\frac{1}{n}} \\right)^n$\n"
      ],
      "metadata": {
        "id": "TJSTrhNBhiTi"
      }
    },
    {
      "cell_type": "markdown",
      "source": [
        "# C++ Example 1\n",
        "\n",
        "```c++\n",
        "\n",
        "#include <iostream>\n",
        "using namespace std;\n",
        "int main(){\n",
        "   cout << \"WELCOME ! \" ;\n",
        "   return 0;\n",
        "}\n",
        "\n",
        "```"
      ],
      "metadata": {
        "id": "Mr0kr2JI5CAX"
      }
    },
    {
      "cell_type": "code",
      "execution_count": null,
      "metadata": {
        "colab": {
          "base_uri": "https://localhost:8080/"
        },
        "id": "JuKmj9kExlUY",
        "outputId": "ec8d1711-3fd9-420e-f912-72e8f2ca84ce"
      },
      "outputs": [
        {
          "output_type": "stream",
          "name": "stdout",
          "text": [
            "Writing ex1.cpp\n"
          ]
        }
      ],
      "source": [
        "%%writefile ex1.cpp\n",
        "\n",
        "#include <iostream>\n",
        "using namespace std;\n",
        "int main(){\n",
        "   cout << \"WELCOME ! \" ;\n",
        "   return 0;\n",
        "}"
      ]
    },
    {
      "cell_type": "code",
      "source": [
        "%%shell\n",
        "g++ ex1.cpp -o out\n",
        "./out\n"
      ],
      "metadata": {
        "colab": {
          "base_uri": "https://localhost:8080/"
        },
        "id": "qnpPOPiDxydn",
        "outputId": "d22eafab-2f81-41e6-9fb4-4e23ca5cea45"
      },
      "execution_count": null,
      "outputs": [
        {
          "output_type": "stream",
          "name": "stdout",
          "text": [
            "WELCOME ! "
          ]
        },
        {
          "output_type": "execute_result",
          "data": {
            "text/plain": []
          },
          "metadata": {},
          "execution_count": 2
        }
      ]
    },
    {
      "cell_type": "markdown",
      "source": [
        "# C++ Example 2\n",
        "\n",
        "```c++\n",
        "#include <iostream>\n",
        "using namespace std;\n",
        "int main(){\n",
        "  int x, y;\n",
        "  cin >> x >> y;\n",
        "  cout << \"x=\" << x << endl;\n",
        "  cout << \"y=\" << y << endl;\n",
        "  return 0;\n",
        "}\n",
        "```"
      ],
      "metadata": {
        "id": "V3ZNpmMv4_5w"
      }
    },
    {
      "cell_type": "code",
      "source": [
        "%%writefile ex2.cpp\n",
        "\n",
        "#include <iostream>\n",
        "using namespace std;\n",
        "int main(){\n",
        "  int x, y;\n",
        "  cin >> x >> y;\n",
        "  cout << \"x=\" << x << endl;\n",
        "  cout << \"y=\" << y << endl;\n",
        "  return 0;\n",
        "}"
      ],
      "metadata": {
        "colab": {
          "base_uri": "https://localhost:8080/"
        },
        "id": "mYKs5PDS4EaP",
        "outputId": "56794d1f-e448-4014-f0dd-9f02fb4effc4"
      },
      "execution_count": null,
      "outputs": [
        {
          "output_type": "stream",
          "name": "stdout",
          "text": [
            "Writing ex2.cpp\n"
          ]
        }
      ]
    },
    {
      "cell_type": "code",
      "source": [
        "%%writefile input.txt\n",
        "3\n",
        "4\n"
      ],
      "metadata": {
        "colab": {
          "base_uri": "https://localhost:8080/"
        },
        "id": "7PohqEtK4UFA",
        "outputId": "bbd1f957-4960-40bb-8042-7b61633b8b73"
      },
      "execution_count": null,
      "outputs": [
        {
          "output_type": "stream",
          "name": "stdout",
          "text": [
            "Writing input.txt\n"
          ]
        }
      ]
    },
    {
      "cell_type": "code",
      "source": [
        "%%shell\n",
        "g++ ex2.cpp -o out\n",
        "./out < input.txt\n"
      ],
      "metadata": {
        "colab": {
          "base_uri": "https://localhost:8080/"
        },
        "id": "ffrnhiJo4au-",
        "outputId": "2c441db4-2638-416e-e3e7-414e18ee1194"
      },
      "execution_count": null,
      "outputs": [
        {
          "output_type": "stream",
          "name": "stdout",
          "text": [
            "x=3\n",
            "y=4\n"
          ]
        },
        {
          "output_type": "execute_result",
          "data": {
            "text/plain": []
          },
          "metadata": {},
          "execution_count": 5
        }
      ]
    }
  ]
}