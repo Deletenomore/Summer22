{
  "nbformat": 4,
  "nbformat_minor": 0,
  "metadata": {
    "colab": {
      "provenance": [],
      "authorship_tag": "ABX9TyPyDvIlGVjYad7b+Uj6GmFM",
      "include_colab_link": true
    },
    "kernelspec": {
      "name": "python3",
      "display_name": "Python 3"
    },
    "language_info": {
      "name": "python"
    }
  },
  "cells": [
    {
      "cell_type": "markdown",
      "metadata": {
        "id": "view-in-github",
        "colab_type": "text"
      },
      "source": [
        "<a href=\"https://colab.research.google.com/github/everestso/Summer22/blob/main/Tensor1.ipynb\" target=\"_parent\"><img src=\"https://colab.research.google.com/assets/colab-badge.svg\" alt=\"Open In Colab\"/></a>"
      ]
    },
    {
      "cell_type": "code",
      "execution_count": 1,
      "metadata": {
        "colab": {
          "base_uri": "https://localhost:8080/"
        },
        "id": "d0kqxZhTF3x2",
        "outputId": "5db8e093-acb3-4749-8f60-1f72ec7aff7d"
      },
      "outputs": [
        {
          "output_type": "stream",
          "name": "stdout",
          "text": [
            "Hello World\n",
            "tf.Tensor(b'Hello World', shape=(), dtype=string)\n"
          ]
        }
      ],
      "source": [
        "import tensorflow as tf \n",
        "x = tf.constant(\"Hello World\") \n",
        "tf.print(x) #will print out \"Hello World\" \n",
        "print(x)"
      ]
    },
    {
      "cell_type": "code",
      "source": [
        "x = tf.constant(2.0) \n",
        "z = tf.Variable(0.0) \n",
        "comp=tf.add(x,z) \n",
        "tf.print(comp)\n",
        "# Prints out 5.0 \n",
        "z = 3\n",
        "comp=tf.add(x,z)\n",
        "tf.print(comp)\n",
        "\n",
        "a = tf.Variable([1,2,3,4])\n",
        "print (a.shape)\n",
        "a[0].assign(10)\n",
        "print (a)\n",
        "tf.print(a)"
      ],
      "metadata": {
        "colab": {
          "base_uri": "https://localhost:8080/"
        },
        "id": "OtEkmL-EHABi",
        "outputId": "ae62115a-1072-400e-f952-28c909022c9b"
      },
      "execution_count": 8,
      "outputs": [
        {
          "output_type": "stream",
          "name": "stdout",
          "text": [
            "2\n",
            "5\n",
            "(4,)\n",
            "<tf.Variable 'Variable:0' shape=(4,) dtype=int32, numpy=array([10,  2,  3,  4], dtype=int32)>\n",
            "[10 2 3 4]\n"
          ]
        }
      ]
    },
    {
      "cell_type": "code",
      "source": [
        "tf.random.set_seed(5)\n",
        "bt = tf.random.normal([10], stddev=.1) \n",
        "b = tf.Variable(bt) \n",
        "W = tf.Variable(tf.random.normal([784,10],stddev=.1)) \n",
        "tf.print(bt.shape,'\\n', bt)\n",
        "tf.print(b.shape,'\\n', b)\n",
        "tf.print(W.shape,'\\n', W)"
      ],
      "metadata": {
        "colab": {
          "base_uri": "https://localhost:8080/"
        },
        "id": "3UANSzG_MrCi",
        "outputId": "ff3aa71c-ab01-4951-8283-f9ea5e741942"
      },
      "execution_count": null,
      "outputs": [
        {
          "output_type": "stream",
          "name": "stdout",
          "text": [
            "TensorShape([10]) \n",
            " [-0.0180306658 -0.0950286314 -0.00396404928 ... -0.00889995322 0.244886979 0.0762508]\n",
            "TensorShape([10]) \n",
            " [-0.0180306658 -0.0950286314 -0.00396404928 ... -0.00889995322 0.244886979 0.0762508]\n",
            "TensorShape([784, 10]) \n",
            " [[0.0226528645 0.0810655281 0.074660942 ... 0.134644642 -0.102107339 0.000945170817]\n",
            " [0.115963258 0.211279511 -0.0712643936 ... -0.097436361 0.00409729686 -0.0490662046]\n",
            " [-0.154450819 -0.250504017 0.149005458 ... -0.115962528 -0.098184742 0.144222826]\n",
            " ...\n",
            " [-0.0699647665 -0.0683866739 -0.00309383939 ... -0.0141383661 -0.19987841 0.0107175102]\n",
            " [-0.122395948 -0.0329876244 0.0949689075 ... -0.011294893 -0.153111294 -0.073111169]\n",
            " [0.102189317 -0.0176626984 -0.00608549872 ... -0.139482155 0.0312592201 0.0325849429]]\n"
          ]
        }
      ]
    },
    {
      "cell_type": "code",
      "source": [
        "import numpy as np\n",
        "batchSz=10\n",
        "(x_train, y_train), (x_test, y_test) = tf.keras.datasets.mnist.load_data()\n",
        "\n",
        "W=tf.Variable(tf.random.normal([784,10],stddev=.1))\n",
        "b=tf.random.normal([10],stddev=.1)\n",
        "\n",
        "img=tf.Variable(tf.random.normal([batchSz,784],stddev=.1))\n",
        "ans=tf.Variable(tf.zeros(shape=([batchSz,10])))\n",
        "\n",
        "#prbs=tf.nn.softmax(tf.matmul(img,W)+b)\n",
        "\n",
        "i = 0\n",
        "\n",
        "img = tf.reshape(x_train[i:i+batchSz,:], (batchSz, 28*28))\n",
        "img = tf.cast(img, tf.float32)/255.0\n",
        "anss = y_train[i:i+batchSz]\n",
        "prbs = tf.nn.softmax(tf.matmul(img, W) + b) \n",
        "\n",
        "print (prbs)\n",
        "print (anss)"
      ],
      "metadata": {
        "colab": {
          "base_uri": "https://localhost:8080/"
        },
        "id": "7teGWsR4OxrF",
        "outputId": "055ca09b-9dd5-4221-eb5e-47625fd36ca2"
      },
      "execution_count": null,
      "outputs": [
        {
          "output_type": "stream",
          "name": "stdout",
          "text": [
            "tf.Tensor(\n",
            "[[0.13488813 0.07422982 0.07347591 0.0381734  0.03884091 0.15403995\n",
            "  0.06959417 0.15560423 0.07150591 0.1896476 ]\n",
            " [0.20175889 0.03580334 0.06355184 0.02125184 0.08100542 0.11471821\n",
            "  0.2736313  0.03162998 0.12441325 0.05223599]\n",
            " [0.16488245 0.02682832 0.09540796 0.0356078  0.16868185 0.03107219\n",
            "  0.29938677 0.05617866 0.06528474 0.05666935]\n",
            " [0.13848537 0.04693684 0.03643512 0.08763347 0.05690173 0.09903066\n",
            "  0.09952462 0.12149523 0.26732904 0.04622789]\n",
            " [0.19999617 0.04327204 0.05486573 0.01816633 0.15108438 0.02233549\n",
            "  0.21976316 0.03628184 0.22608748 0.02814735]\n",
            " [0.08240918 0.02133325 0.00962957 0.02922455 0.03755412 0.05783606\n",
            "  0.5255081  0.04500192 0.16349572 0.02800758]\n",
            " [0.11677734 0.0543555  0.17814967 0.05097408 0.04706721 0.04507262\n",
            "  0.0530569  0.10960533 0.28284493 0.06209651]\n",
            " [0.39547458 0.11098238 0.04843941 0.02846079 0.02878258 0.05011274\n",
            "  0.04622936 0.10311633 0.05162881 0.13677299]\n",
            " [0.12095381 0.03865198 0.09684891 0.07014885 0.08407918 0.04459606\n",
            "  0.04222108 0.15590653 0.2758734  0.07072018]\n",
            " [0.0618586  0.04790107 0.07245751 0.01635855 0.4270116  0.04996423\n",
            "  0.057446   0.17799856 0.0507145  0.03828936]], shape=(10, 10), dtype=float32)\n",
            "[5 0 4 1 9 2 1 3 1 4]\n"
          ]
        }
      ]
    },
    {
      "cell_type": "markdown",
      "source": [
        "# New Example"
      ],
      "metadata": {
        "id": "mzbIqyVpKR3U"
      }
    },
    {
      "cell_type": "code",
      "source": [
        "import tensorflow as tf\n",
        "x = tf.Variable(1.)\n",
        "with tf.GradientTape() as tape:\n",
        "    y = 2 * x**3 + 3*x + 4\n",
        "grad_of_y_wrt_x = tape.gradient(y, x)\n",
        "print (grad_of_y_wrt_x)"
      ],
      "metadata": {
        "colab": {
          "base_uri": "https://localhost:8080/"
        },
        "id": "ZAzWeKEUKTqs",
        "outputId": "d80600dc-6a5f-4ced-f278-3b2ca31cfa3a"
      },
      "execution_count": null,
      "outputs": [
        {
          "output_type": "stream",
          "name": "stdout",
          "text": [
            "tf.Tensor(9.0, shape=(), dtype=float32)\n"
          ]
        }
      ]
    },
    {
      "cell_type": "code",
      "source": [
        "#x = tf.Variable(tf.random.uniform((2, 2)))\n",
        "x = tf.Variable([[0.0, 1.0], [2.0, 3.0]])\n",
        "with tf.GradientTape() as tape:\n",
        "    y = 2 * x**3 + 3*x + 4\n",
        "grad_of_y_wrt_x = tape.gradient(y, x)\n",
        "print  (grad_of_y_wrt_x)"
      ],
      "metadata": {
        "colab": {
          "base_uri": "https://localhost:8080/"
        },
        "id": "lXqTcy6WKdtt",
        "outputId": "17cdd7fc-e54e-431d-a769-871c597c372e"
      },
      "execution_count": null,
      "outputs": [
        {
          "output_type": "stream",
          "name": "stdout",
          "text": [
            "tf.Tensor(\n",
            "[[ 3.  9.]\n",
            " [27. 57.]], shape=(2, 2), dtype=float32)\n"
          ]
        }
      ]
    },
    {
      "cell_type": "code",
      "source": [
        "W = tf.Variable(tf.random.uniform((2, 2)))\n",
        "b = tf.Variable(tf.zeros((2,)))\n",
        "x = tf.random.uniform((2, 2))\n",
        "with tf.GradientTape() as tape:\n",
        "    y = tf.matmul(x, W) + b\n",
        "grad_of_y_wrt_W_and_b = tape.gradient(y, [W, b])"
      ],
      "metadata": {
        "id": "nXsp3Xv4Kls9"
      },
      "execution_count": null,
      "outputs": []
    },
    {
      "cell_type": "markdown",
      "source": [
        "# New Example"
      ],
      "metadata": {
        "id": "mKQXtetqQPgH"
      }
    },
    {
      "cell_type": "code",
      "source": [
        "import tensorflow as tf\n",
        "from tensorflow.keras.datasets import mnist\n",
        "(train_images, train_labels), (test_images, test_labels) = mnist.load_data()\n",
        "\n",
        "train_images = train_images.reshape((60000, 28 * 28))\n",
        "train_images = train_images.astype(\"float32\") / 255\n",
        "test_images = test_images.reshape((10000, 28 * 28))\n",
        "test_images = test_images.astype(\"float32\") / 255\n"
      ],
      "metadata": {
        "id": "8ZvjIix0QmVa"
      },
      "execution_count": null,
      "outputs": []
    },
    {
      "cell_type": "code",
      "source": [
        "import math\n",
        "\n",
        "class BatchGenerator:\n",
        "    def __init__(self, images, labels, batch_size=128):\n",
        "        assert len(images) == len(labels)\n",
        "        self.index = 0\n",
        "        self.images = images\n",
        "        self.labels = labels\n",
        "        self.batch_size = batch_size\n",
        "        self.num_batches = math.ceil(len(images) / batch_size)\n",
        "\n",
        "    def next(self):\n",
        "        images = self.images[self.index : self.index + self.batch_size]\n",
        "        labels = self.labels[self.index : self.index + self.batch_size]\n",
        "        self.index += self.batch_size\n",
        "        return images, labels\n",
        "\n",
        "batch_generator = BatchGenerator(train_images, train_labels)"
      ],
      "metadata": {
        "id": "kYTi551pRAZV"
      },
      "execution_count": null,
      "outputs": []
    },
    {
      "cell_type": "code",
      "source": [
        "# Layer 1\n",
        "layer1_activation = tf.nn.relu\n",
        "layer1_w_shape = (28 * 28, 512)\n",
        "layer1_b_shape = (512,)\n",
        "\n",
        "layer1_w_initial_value = tf.random.uniform(layer1_w_shape, minval=0, maxval=1e-1)\n",
        "layer1_W = tf.Variable(layer1_w_initial_value)\n",
        "\n",
        "layer1_b_initial_value = tf.zeros(layer1_b_shape)\n",
        "layer1_b = tf.Variable(layer1_b_initial_value)\n",
        "\n",
        "# Layer 2\n",
        "layer2_activation = tf.nn.softmax\n",
        "layer2_w_shape = (512, 10)\n",
        "layer2_b_shape = (10,)\n",
        "\n",
        "layer2_w_initial_value = tf.random.uniform(layer2_w_shape, minval=0, maxval=1e-1)\n",
        "layer2_W = tf.Variable(layer2_w_initial_value)\n",
        "\n",
        "layer2_b_initial_value = tf.zeros(layer2_b_shape)\n",
        "layer2_b = tf.Variable(layer2_b_initial_value)"
      ],
      "metadata": {
        "id": "crjnnO4LRuNr"
      },
      "execution_count": null,
      "outputs": []
    },
    {
      "cell_type": "code",
      "source": [
        "images_batch, labels_batch = batch_generator.next()\n",
        "with tf.GradientTape() as tape:\n",
        "  layer1_output = layer1_activation(tf.matmul(images_batch, layer1_W) + layer1_b)\n",
        "  layer2_output = layer2_activation(tf.matmul(layer1_output, layer2_W)+ layer2_b)\n",
        "  predictions = layer2_output\n",
        "  per_sample_losses = tf.keras.losses.sparse_categorical_crossentropy(\n",
        "      labels_batch, predictions)\n",
        "  average_loss = tf.reduce_mean(per_sample_losses)\n",
        "\n",
        "print (average_loss)"
      ],
      "metadata": {
        "colab": {
          "base_uri": "https://localhost:8080/"
        },
        "id": "s_V0e45fQQuG",
        "outputId": "53b37240-8cd5-4a9d-c8af-63480ded9260"
      },
      "execution_count": null,
      "outputs": [
        {
          "output_type": "stream",
          "name": "stdout",
          "text": [
            "tf.Tensor(5.945865, shape=(), dtype=float32)\n"
          ]
        }
      ]
    },
    {
      "cell_type": "code",
      "source": [
        "learning_rate = 1e-3\n",
        "\n",
        "gradients_layer2_W, gradients_layer2_b, gradients_layer1_W, gradients_layer1_b = tape.gradient(average_loss, [layer2_W, layer2_b, layer1_W, layer1_b])\n",
        "layer2_W.assign_sub(gradients_layer2_W * learning_rate)\n",
        "\n",
        "#gradients_layer2_b = tape.gradient(average_loss, layer2_b)\n",
        "layer2_b.assign_sub(gradients_layer2_b * learning_rate)\n",
        "\n",
        "#gradients_layer1_W = tape.gradient(average_loss, layer1_W)\n",
        "layer1_W.assign_sub(gradients_layer1_W * learning_rate)\n",
        "\n",
        "#gradients_layer1_b = tape.gradient(average_loss, layer1_b)\n",
        "layer1_b.assign_sub(gradients_layer1_b * learning_rate)\n",
        "\n",
        "print(layer1_b[0])"
      ],
      "metadata": {
        "colab": {
          "base_uri": "https://localhost:8080/"
        },
        "id": "vGBXLVweWVMk",
        "outputId": "3360989b-5b64-47d3-f4ed-c1ec081259bc"
      },
      "execution_count": null,
      "outputs": [
        {
          "output_type": "stream",
          "name": "stdout",
          "text": [
            "tf.Tensor(1.4147098e-05, shape=(), dtype=float32)\n"
          ]
        }
      ]
    },
    {
      "cell_type": "code",
      "source": [
        "  images_batch, labels_batch = batch_generator.next()\n",
        "  img = tf.expand_dims(images_batch[0], 0)\n",
        "  print(img.shape, layer1_W.shape)\n",
        "  layer1_output = layer1_activation(tf.matmul(img, layer1_W) + layer1_b)\n",
        "  layer2_output = layer2_activation(tf.matmul(layer1_output, layer2_W)+ layer2_b)\n",
        "  predictions = layer2_output\n",
        "  print(predictions)\n",
        "  print (labels_batch[0])\n"
      ],
      "metadata": {
        "colab": {
          "base_uri": "https://localhost:8080/"
        },
        "id": "HxTy5WlkYewc",
        "outputId": "b1721232-cc6f-48fc-82fa-c6aa55e21d5f"
      },
      "execution_count": null,
      "outputs": [
        {
          "output_type": "stream",
          "name": "stdout",
          "text": [
            "(1, 784) (784, 512)\n",
            "tf.Tensor(\n",
            "[[0.00136714 0.2053425  0.05942346 0.11436532 0.12377734 0.03915294\n",
            "  0.07116453 0.00068611 0.01303529 0.37168542]], shape=(1, 10), dtype=float32)\n",
            "1\n"
          ]
        }
      ]
    },
    {
      "cell_type": "markdown",
      "source": [
        "# loop through code"
      ],
      "metadata": {
        "id": "LFwEYCE-bN-H"
      }
    },
    {
      "cell_type": "code",
      "source": [
        "learning_rate = 1e-4\n",
        "for i in range(100):\n",
        "  images_batch, labels_batch = batch_generator.next()\n",
        "  with tf.GradientTape() as tape:\n",
        "    layer1_output = layer1_activation(tf.matmul(images_batch, layer1_W) + layer1_b)\n",
        "    layer2_output = layer2_activation(tf.matmul(layer1_output, layer2_W)+ layer2_b)\n",
        "    predictions = layer2_output\n",
        "    per_sample_losses = tf.keras.losses.sparse_categorical_crossentropy(\n",
        "        labels_batch, predictions)\n",
        "    average_loss = tf.reduce_mean(per_sample_losses)\n",
        "\n",
        "    gradients_layer2_W, gradients_layer2_b, gradients_layer1_W, gradients_layer1_b = tape.gradient(average_loss, [layer2_W, layer2_b, layer1_W, layer1_b])\n",
        "    layer2_W.assign_sub(gradients_layer2_W * learning_rate)\n",
        "\n",
        "    #gradients_layer2_b = tape.gradient(average_loss, layer2_b)\n",
        "    layer2_b.assign_sub(gradients_layer2_b * learning_rate)\n",
        "\n",
        "    #gradients_layer1_W = tape.gradient(average_loss, layer1_W)\n",
        "    layer1_W.assign_sub(gradients_layer1_W * learning_rate)\n",
        "\n",
        "    #gradients_layer1_b = tape.gradient(average_loss, layer1_b)\n",
        "    layer1_b.assign_sub(gradients_layer1_b * learning_rate)\n",
        "\n",
        "print (average_loss)"
      ],
      "metadata": {
        "colab": {
          "base_uri": "https://localhost:8080/"
        },
        "id": "sb7nyD02YWGN",
        "outputId": "6a9e9b44-52a8-4167-a906-b43af83d6c66"
      },
      "execution_count": null,
      "outputs": [
        {
          "output_type": "stream",
          "name": "stdout",
          "text": [
            "tf.Tensor(2.2981892, shape=(), dtype=float32)\n"
          ]
        }
      ]
    },
    {
      "cell_type": "code",
      "source": [
        "import numpy as np\n",
        "\n",
        "x = np.array([1, 2, 3, 4, 5, 6, 7, 8, 9, 10, 11, 12])\n",
        "y=x.reshape(3,4)\n",
        "print(y)\n",
        "print (y.sum(axis=1).shape)\n",
        "print (y[0].shape)"
      ],
      "metadata": {
        "colab": {
          "base_uri": "https://localhost:8080/"
        },
        "id": "6KX3TPkLsIBl",
        "outputId": "4064cb59-c796-4425-8df8-55377c89cb0e"
      },
      "execution_count": null,
      "outputs": [
        {
          "output_type": "stream",
          "name": "stdout",
          "text": [
            "[[ 1  2  3  4]\n",
            " [ 5  6  7  8]\n",
            " [ 9 10 11 12]]\n",
            "(3,)\n",
            "(4,)\n"
          ]
        }
      ]
    },
    {
      "cell_type": "markdown",
      "source": [
        "# Tensor dot product"
      ],
      "metadata": {
        "id": "PH2L-TjCzRFq"
      }
    },
    {
      "cell_type": "code",
      "source": [
        "import tensorflow as tf\n",
        "x = tf.random.uniform((2,3,4))\n",
        "\n",
        "print (x.shape, x[0].shape, x[0,0].shape, x[0,0,0].shape)\n",
        "\n",
        "y = tf.random.uniform((4,3))\n",
        "print(y.shape)\n",
        "\n",
        "z = tf.matmul(x,y)\n",
        "print (z)\n",
        "print(z.shape)"
      ],
      "metadata": {
        "colab": {
          "base_uri": "https://localhost:8080/"
        },
        "id": "E3jNLR1ezNtX",
        "outputId": "619755fc-5048-413a-de62-31a9b8050f62"
      },
      "execution_count": null,
      "outputs": [
        {
          "output_type": "stream",
          "name": "stdout",
          "text": [
            "(2, 3, 4) (3, 4) (4,) ()\n",
            "(4, 3)\n",
            "tf.Tensor(\n",
            "[[[0.90055716 0.99892724 0.9015755 ]\n",
            "  [0.52398753 0.6599881  0.5061502 ]\n",
            "  [0.6293865  0.79865503 0.8079129 ]]\n",
            "\n",
            " [[1.116533   1.1365303  1.082479  ]\n",
            "  [1.1793517  1.0821655  1.1754175 ]\n",
            "  [0.9090234  0.84887725 0.81600475]]], shape=(2, 3, 3), dtype=float32)\n",
            "(2, 3, 3)\n"
          ]
        }
      ]
    },
    {
      "cell_type": "markdown",
      "source": [
        "# New Example"
      ],
      "metadata": {
        "id": "k2xQNZgEwbKV"
      }
    },
    {
      "cell_type": "code",
      "source": [
        "import random\n",
        "import os\n",
        "from google.colab import files\n",
        "from keras.preprocessing.image import ImageDataGenerator\n",
        "from tensorflow.keras.utils import load_img\n",
        "\n",
        "import matplotlib.pyplot as plt\n",
        "\n",
        "files.upload()"
      ],
      "metadata": {
        "colab": {
          "base_uri": "https://localhost:8080/",
          "height": 55
        },
        "id": "OUZoSiNBwciE",
        "outputId": "628ee80f-7aae-4c6e-fec0-9080f4642385"
      },
      "execution_count": 27,
      "outputs": [
        {
          "output_type": "display_data",
          "data": {
            "text/plain": [
              "<IPython.core.display.HTML object>"
            ],
            "text/html": [
              "\n",
              "     <input type=\"file\" id=\"files-ca700b1c-a205-47bb-85c4-8b73885183b1\" name=\"files[]\" multiple disabled\n",
              "        style=\"border:none\" />\n",
              "     <output id=\"result-ca700b1c-a205-47bb-85c4-8b73885183b1\">\n",
              "      Upload widget is only available when the cell has been executed in the\n",
              "      current browser session. Please rerun this cell to enable.\n",
              "      </output>\n",
              "      <script>// Copyright 2017 Google LLC\n",
              "//\n",
              "// Licensed under the Apache License, Version 2.0 (the \"License\");\n",
              "// you may not use this file except in compliance with the License.\n",
              "// You may obtain a copy of the License at\n",
              "//\n",
              "//      http://www.apache.org/licenses/LICENSE-2.0\n",
              "//\n",
              "// Unless required by applicable law or agreed to in writing, software\n",
              "// distributed under the License is distributed on an \"AS IS\" BASIS,\n",
              "// WITHOUT WARRANTIES OR CONDITIONS OF ANY KIND, either express or implied.\n",
              "// See the License for the specific language governing permissions and\n",
              "// limitations under the License.\n",
              "\n",
              "/**\n",
              " * @fileoverview Helpers for google.colab Python module.\n",
              " */\n",
              "(function(scope) {\n",
              "function span(text, styleAttributes = {}) {\n",
              "  const element = document.createElement('span');\n",
              "  element.textContent = text;\n",
              "  for (const key of Object.keys(styleAttributes)) {\n",
              "    element.style[key] = styleAttributes[key];\n",
              "  }\n",
              "  return element;\n",
              "}\n",
              "\n",
              "// Max number of bytes which will be uploaded at a time.\n",
              "const MAX_PAYLOAD_SIZE = 100 * 1024;\n",
              "\n",
              "function _uploadFiles(inputId, outputId) {\n",
              "  const steps = uploadFilesStep(inputId, outputId);\n",
              "  const outputElement = document.getElementById(outputId);\n",
              "  // Cache steps on the outputElement to make it available for the next call\n",
              "  // to uploadFilesContinue from Python.\n",
              "  outputElement.steps = steps;\n",
              "\n",
              "  return _uploadFilesContinue(outputId);\n",
              "}\n",
              "\n",
              "// This is roughly an async generator (not supported in the browser yet),\n",
              "// where there are multiple asynchronous steps and the Python side is going\n",
              "// to poll for completion of each step.\n",
              "// This uses a Promise to block the python side on completion of each step,\n",
              "// then passes the result of the previous step as the input to the next step.\n",
              "function _uploadFilesContinue(outputId) {\n",
              "  const outputElement = document.getElementById(outputId);\n",
              "  const steps = outputElement.steps;\n",
              "\n",
              "  const next = steps.next(outputElement.lastPromiseValue);\n",
              "  return Promise.resolve(next.value.promise).then((value) => {\n",
              "    // Cache the last promise value to make it available to the next\n",
              "    // step of the generator.\n",
              "    outputElement.lastPromiseValue = value;\n",
              "    return next.value.response;\n",
              "  });\n",
              "}\n",
              "\n",
              "/**\n",
              " * Generator function which is called between each async step of the upload\n",
              " * process.\n",
              " * @param {string} inputId Element ID of the input file picker element.\n",
              " * @param {string} outputId Element ID of the output display.\n",
              " * @return {!Iterable<!Object>} Iterable of next steps.\n",
              " */\n",
              "function* uploadFilesStep(inputId, outputId) {\n",
              "  const inputElement = document.getElementById(inputId);\n",
              "  inputElement.disabled = false;\n",
              "\n",
              "  const outputElement = document.getElementById(outputId);\n",
              "  outputElement.innerHTML = '';\n",
              "\n",
              "  const pickedPromise = new Promise((resolve) => {\n",
              "    inputElement.addEventListener('change', (e) => {\n",
              "      resolve(e.target.files);\n",
              "    });\n",
              "  });\n",
              "\n",
              "  const cancel = document.createElement('button');\n",
              "  inputElement.parentElement.appendChild(cancel);\n",
              "  cancel.textContent = 'Cancel upload';\n",
              "  const cancelPromise = new Promise((resolve) => {\n",
              "    cancel.onclick = () => {\n",
              "      resolve(null);\n",
              "    };\n",
              "  });\n",
              "\n",
              "  // Wait for the user to pick the files.\n",
              "  const files = yield {\n",
              "    promise: Promise.race([pickedPromise, cancelPromise]),\n",
              "    response: {\n",
              "      action: 'starting',\n",
              "    }\n",
              "  };\n",
              "\n",
              "  cancel.remove();\n",
              "\n",
              "  // Disable the input element since further picks are not allowed.\n",
              "  inputElement.disabled = true;\n",
              "\n",
              "  if (!files) {\n",
              "    return {\n",
              "      response: {\n",
              "        action: 'complete',\n",
              "      }\n",
              "    };\n",
              "  }\n",
              "\n",
              "  for (const file of files) {\n",
              "    const li = document.createElement('li');\n",
              "    li.append(span(file.name, {fontWeight: 'bold'}));\n",
              "    li.append(span(\n",
              "        `(${file.type || 'n/a'}) - ${file.size} bytes, ` +\n",
              "        `last modified: ${\n",
              "            file.lastModifiedDate ? file.lastModifiedDate.toLocaleDateString() :\n",
              "                                    'n/a'} - `));\n",
              "    const percent = span('0% done');\n",
              "    li.appendChild(percent);\n",
              "\n",
              "    outputElement.appendChild(li);\n",
              "\n",
              "    const fileDataPromise = new Promise((resolve) => {\n",
              "      const reader = new FileReader();\n",
              "      reader.onload = (e) => {\n",
              "        resolve(e.target.result);\n",
              "      };\n",
              "      reader.readAsArrayBuffer(file);\n",
              "    });\n",
              "    // Wait for the data to be ready.\n",
              "    let fileData = yield {\n",
              "      promise: fileDataPromise,\n",
              "      response: {\n",
              "        action: 'continue',\n",
              "      }\n",
              "    };\n",
              "\n",
              "    // Use a chunked sending to avoid message size limits. See b/62115660.\n",
              "    let position = 0;\n",
              "    do {\n",
              "      const length = Math.min(fileData.byteLength - position, MAX_PAYLOAD_SIZE);\n",
              "      const chunk = new Uint8Array(fileData, position, length);\n",
              "      position += length;\n",
              "\n",
              "      const base64 = btoa(String.fromCharCode.apply(null, chunk));\n",
              "      yield {\n",
              "        response: {\n",
              "          action: 'append',\n",
              "          file: file.name,\n",
              "          data: base64,\n",
              "        },\n",
              "      };\n",
              "\n",
              "      let percentDone = fileData.byteLength === 0 ?\n",
              "          100 :\n",
              "          Math.round((position / fileData.byteLength) * 100);\n",
              "      percent.textContent = `${percentDone}% done`;\n",
              "\n",
              "    } while (position < fileData.byteLength);\n",
              "  }\n",
              "\n",
              "  // All done.\n",
              "  yield {\n",
              "    response: {\n",
              "      action: 'complete',\n",
              "    }\n",
              "  };\n",
              "}\n",
              "\n",
              "scope.google = scope.google || {};\n",
              "scope.google.colab = scope.google.colab || {};\n",
              "scope.google.colab._files = {\n",
              "  _uploadFiles,\n",
              "  _uploadFilesContinue,\n",
              "};\n",
              "})(self);\n",
              "</script> "
            ]
          },
          "metadata": {}
        },
        {
          "output_type": "execute_result",
          "data": {
            "text/plain": [
              "{}"
            ]
          },
          "metadata": {},
          "execution_count": 27
        }
      ]
    },
    {
      "cell_type": "code",
      "source": [
        "!mkdir ~/.kaggle\n",
        "!cp kaggle.json ~/.kaggle/\n",
        "!chmod 600 ~/.kaggle/kaggle.json "
      ],
      "metadata": {
        "id": "q-i-BQI_w5y2"
      },
      "execution_count": 10,
      "outputs": []
    },
    {
      "cell_type": "code",
      "source": [
        "!kaggle competitions download -c dogs-vs-cats"
      ],
      "metadata": {
        "colab": {
          "base_uri": "https://localhost:8080/"
        },
        "id": "I56JH9UwxS0H",
        "outputId": "3adad7d2-91f1-4abd-8c49-a839e299c552"
      },
      "execution_count": 13,
      "outputs": [
        {
          "output_type": "stream",
          "name": "stdout",
          "text": [
            "Downloading dogs-vs-cats.zip to /content\n",
            "100% 812M/812M [00:05<00:00, 192MB/s]\n",
            "100% 812M/812M [00:05<00:00, 143MB/s]\n"
          ]
        }
      ]
    },
    {
      "cell_type": "code",
      "source": [
        "!unzip -qq dogs-vs-cats.zip"
      ],
      "metadata": {
        "id": "mMbCGYEryVR_"
      },
      "execution_count": 15,
      "outputs": []
    },
    {
      "cell_type": "code",
      "source": [
        "!unzip -qq train.zip"
      ],
      "metadata": {
        "id": "sGaRu1HKy9_g"
      },
      "execution_count": 16,
      "outputs": []
    },
    {
      "cell_type": "code",
      "source": [
        "filenames = os.listdir(\"train/\")"
      ],
      "metadata": {
        "id": "86UsfMnezjQK"
      },
      "execution_count": 21,
      "outputs": []
    },
    {
      "cell_type": "code",
      "source": [
        "sample = random.choice(filenames)\n",
        "image = load_img(\"train/\"+sample)\n",
        "plt.imshow(image)"
      ],
      "metadata": {
        "colab": {
          "base_uri": "https://localhost:8080/",
          "height": 286
        },
        "id": "LIY8TaqLzKOY",
        "outputId": "a9267735-fa80-4ab2-cdf1-1103dadc3dd2"
      },
      "execution_count": 32,
      "outputs": [
        {
          "output_type": "execute_result",
          "data": {
            "text/plain": [
              "<matplotlib.image.AxesImage at 0x7f0a9aa3f160>"
            ]
          },
          "metadata": {},
          "execution_count": 32
        },
        {
          "output_type": "display_data",
          "data": {
            "text/plain": [
              "<Figure size 432x288 with 1 Axes>"
            ],
            "image/png": "[encoded data removed]"
          },
          "metadata": {
            "needs_background": "light"
          }
        }
      ]
    }
  ]
}