{
  "nbformat": 4,
  "nbformat_minor": 0,
  "metadata": {
    "colab": {
      "provenance": [],
      "authorship_tag": "ABX9TyOO5yMBq2XaXWAakZZDwyJz",
      "include_colab_link": true
    },
    "kernelspec": {
      "name": "python3",
      "display_name": "Python 3"
    },
    "language_info": {
      "name": "python"
    }
  },
  "cells": [
    {
      "cell_type": "markdown",
      "metadata": {
        "id": "view-in-github",
        "colab_type": "text"
      },
      "source": [
        "<a href=\"https://colab.research.google.com/github/everestso/Summer22/blob/main/Tensor1.ipynb\" target=\"_parent\"><img src=\"https://colab.research.google.com/assets/colab-badge.svg\" alt=\"Open In Colab\"/></a>"
      ]
    },
    {
      "cell_type": "code",
      "execution_count": 1,
      "metadata": {
        "colab": {
          "base_uri": "https://localhost:8080/"
        },
        "id": "d0kqxZhTF3x2",
        "outputId": "0280ed3a-5ad5-4496-b63e-d0f14f79dbae"
      },
      "outputs": [
        {
          "output_type": "stream",
          "name": "stdout",
          "text": [
            "Hello World\n",
            "tf.Tensor(b'Hello World', shape=(), dtype=string)\n"
          ]
        }
      ],
      "source": [
        "import tensorflow as tf \n",
        "x = tf.constant(\"Hello World\") \n",
        "tf.print(x) #will print out \"Hello World\" \n",
        "print(x)"
      ]
    },
    {
      "cell_type": "code",
      "source": [
        "x = tf.constant(2.0) \n",
        "z = tf.Variable(0.0) \n",
        "comp=tf.add(x,z) \n",
        "tf.print(comp)\n",
        "# Prints out 5.0 \n",
        "z = 3\n",
        "comp=tf.add(x,z)\n",
        "tf.print(comp)\n"
      ],
      "metadata": {
        "colab": {
          "base_uri": "https://localhost:8080/"
        },
        "id": "OtEkmL-EHABi",
        "outputId": "71f90549-3687-447d-fe49-3ef27f80f857"
      },
      "execution_count": 2,
      "outputs": [
        {
          "output_type": "stream",
          "name": "stdout",
          "text": [
            "2\n",
            "5\n"
          ]
        }
      ]
    },
    {
      "cell_type": "code",
      "source": [
        "tf.random.set_seed(5)\n",
        "bt = tf.random.normal([10], stddev=.1) \n",
        "b = tf.Variable(bt) \n",
        "W = tf.Variable(tf.random.normal([784,10],stddev=.1)) \n",
        "tf.print(bt.shape,'\\n', bt)\n",
        "tf.print(b.shape,'\\n', b)\n",
        "tf.print(W.shape,'\\n', W)"
      ],
      "metadata": {
        "colab": {
          "base_uri": "https://localhost:8080/"
        },
        "id": "3UANSzG_MrCi",
        "outputId": "ff3aa71c-ab01-4951-8283-f9ea5e741942"
      },
      "execution_count": 3,
      "outputs": [
        {
          "output_type": "stream",
          "name": "stdout",
          "text": [
            "TensorShape([10]) \n",
            " [-0.0180306658 -0.0950286314 -0.00396404928 ... -0.00889995322 0.244886979 0.0762508]\n",
            "TensorShape([10]) \n",
            " [-0.0180306658 -0.0950286314 -0.00396404928 ... -0.00889995322 0.244886979 0.0762508]\n",
            "TensorShape([784, 10]) \n",
            " [[0.0226528645 0.0810655281 0.074660942 ... 0.134644642 -0.102107339 0.000945170817]\n",
            " [0.115963258 0.211279511 -0.0712643936 ... -0.097436361 0.00409729686 -0.0490662046]\n",
            " [-0.154450819 -0.250504017 0.149005458 ... -0.115962528 -0.098184742 0.144222826]\n",
            " ...\n",
            " [-0.0699647665 -0.0683866739 -0.00309383939 ... -0.0141383661 -0.19987841 0.0107175102]\n",
            " [-0.122395948 -0.0329876244 0.0949689075 ... -0.011294893 -0.153111294 -0.073111169]\n",
            " [0.102189317 -0.0176626984 -0.00608549872 ... -0.139482155 0.0312592201 0.0325849429]]\n"
          ]
        }
      ]
    },
    {
      "cell_type": "code",
      "source": [
        "import numpy as np\n",
        "batchSz=10\n",
        "(x_train, y_train), (x_test, y_test) = tf.keras.datasets.mnist.load_data()\n",
        "\n",
        "W=tf.Variable(tf.random.normal([784,10],stddev=.1))\n",
        "b=tf.random.normal([10],stddev=.1)\n",
        "\n",
        "img=tf.Variable(tf.random.normal([batchSz,784],stddev=.1))\n",
        "ans=tf.Variable(tf.zeros(shape=([batchSz,10])))\n",
        "\n",
        "#prbs=tf.nn.softmax(tf.matmul(img,W)+b)\n",
        "\n",
        "i = 0\n",
        "\n",
        "img = tf.reshape(x_train[i:i+batchSz,:], (batchSz, 28*28))\n",
        "img = tf.cast(img, tf.float32)/255.0\n",
        "anss = y_train[i:i+batchSz]\n",
        "prbs = tf.nn.softmax(tf.matmul(img, W) + b) \n",
        "\n",
        "print (prbs)\n",
        "print (anss)"
      ],
      "metadata": {
        "colab": {
          "base_uri": "https://localhost:8080/"
        },
        "id": "7teGWsR4OxrF",
        "outputId": "055ca09b-9dd5-4221-eb5e-47625fd36ca2"
      },
      "execution_count": 5,
      "outputs": [
        {
          "output_type": "stream",
          "name": "stdout",
          "text": [
            "tf.Tensor(\n",
            "[[0.13488813 0.07422982 0.07347591 0.0381734  0.03884091 0.15403995\n",
            "  0.06959417 0.15560423 0.07150591 0.1896476 ]\n",
            " [0.20175889 0.03580334 0.06355184 0.02125184 0.08100542 0.11471821\n",
            "  0.2736313  0.03162998 0.12441325 0.05223599]\n",
            " [0.16488245 0.02682832 0.09540796 0.0356078  0.16868185 0.03107219\n",
            "  0.29938677 0.05617866 0.06528474 0.05666935]\n",
            " [0.13848537 0.04693684 0.03643512 0.08763347 0.05690173 0.09903066\n",
            "  0.09952462 0.12149523 0.26732904 0.04622789]\n",
            " [0.19999617 0.04327204 0.05486573 0.01816633 0.15108438 0.02233549\n",
            "  0.21976316 0.03628184 0.22608748 0.02814735]\n",
            " [0.08240918 0.02133325 0.00962957 0.02922455 0.03755412 0.05783606\n",
            "  0.5255081  0.04500192 0.16349572 0.02800758]\n",
            " [0.11677734 0.0543555  0.17814967 0.05097408 0.04706721 0.04507262\n",
            "  0.0530569  0.10960533 0.28284493 0.06209651]\n",
            " [0.39547458 0.11098238 0.04843941 0.02846079 0.02878258 0.05011274\n",
            "  0.04622936 0.10311633 0.05162881 0.13677299]\n",
            " [0.12095381 0.03865198 0.09684891 0.07014885 0.08407918 0.04459606\n",
            "  0.04222108 0.15590653 0.2758734  0.07072018]\n",
            " [0.0618586  0.04790107 0.07245751 0.01635855 0.4270116  0.04996423\n",
            "  0.057446   0.17799856 0.0507145  0.03828936]], shape=(10, 10), dtype=float32)\n",
            "[5 0 4 1 9 2 1 3 1 4]\n"
          ]
        }
      ]
    },
    {
      "cell_type": "markdown",
      "source": [
        "# New Example"
      ],
      "metadata": {
        "id": "mzbIqyVpKR3U"
      }
    },
    {
      "cell_type": "code",
      "source": [
        "import tensorflow as tf\n",
        "x = tf.Variable(1.)\n",
        "with tf.GradientTape() as tape:\n",
        "    y = 2 * x**3 + 3*x + 4\n",
        "grad_of_y_wrt_x = tape.gradient(y, x)\n",
        "print (grad_of_y_wrt_x)"
      ],
      "metadata": {
        "colab": {
          "base_uri": "https://localhost:8080/"
        },
        "id": "ZAzWeKEUKTqs",
        "outputId": "d80600dc-6a5f-4ced-f278-3b2ca31cfa3a"
      },
      "execution_count": 16,
      "outputs": [
        {
          "output_type": "stream",
          "name": "stdout",
          "text": [
            "tf.Tensor(9.0, shape=(), dtype=float32)\n"
          ]
        }
      ]
    },
    {
      "cell_type": "code",
      "source": [
        "#x = tf.Variable(tf.random.uniform((2, 2)))\n",
        "x = tf.Variable([[0.0, 1.0], [2.0, 3.0]])\n",
        "with tf.GradientTape() as tape:\n",
        "    y = 2 * x**3 + 3*x + 4\n",
        "grad_of_y_wrt_x = tape.gradient(y, x)\n",
        "print  (grad_of_y_wrt_x)"
      ],
      "metadata": {
        "colab": {
          "base_uri": "https://localhost:8080/"
        },
        "id": "lXqTcy6WKdtt",
        "outputId": "17cdd7fc-e54e-431d-a769-871c597c372e"
      },
      "execution_count": 19,
      "outputs": [
        {
          "output_type": "stream",
          "name": "stdout",
          "text": [
            "tf.Tensor(\n",
            "[[ 3.  9.]\n",
            " [27. 57.]], shape=(2, 2), dtype=float32)\n"
          ]
        }
      ]
    },
    {
      "cell_type": "code",
      "source": [
        "W = tf.Variable(tf.random.uniform((2, 2)))\n",
        "b = tf.Variable(tf.zeros((2,)))\n",
        "x = tf.random.uniform((2, 2))\n",
        "with tf.GradientTape() as tape:\n",
        "    y = tf.matmul(x, W) + b\n",
        "grad_of_y_wrt_W_and_b = tape.gradient(y, [W, b])"
      ],
      "metadata": {
        "id": "nXsp3Xv4Kls9"
      },
      "execution_count": 20,
      "outputs": []
    }
  ]
}