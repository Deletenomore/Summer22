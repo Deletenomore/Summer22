{
  "nbformat": 4,
  "nbformat_minor": 0,
  "metadata": {
    "colab": {
      "name": "tensor1.ipynb",
      "provenance": [],
      "authorship_tag": "ABX9TyMqZeGFloCbQInddfxcplqu",
      "include_colab_link": true
    },
    "kernelspec": {
      "name": "python3",
      "display_name": "Python 3"
    },
    "language_info": {
      "name": "python"
    }
  },
  "cells": [
    {
      "cell_type": "markdown",
      "metadata": {
        "id": "view-in-github",
        "colab_type": "text"
      },
      "source": [
        "<a href=\"https://colab.research.google.com/github/everestso/Summer22/blob/main/tensor1.ipynb\" target=\"_parent\"><img src=\"https://colab.research.google.com/assets/colab-badge.svg\" alt=\"Open In Colab\"/></a>"
      ]
    },
    {
      "cell_type": "markdown",
      "source": [
        "# Tensorflow"
      ],
      "metadata": {
        "id": "npPGQOsDB-Mg"
      }
    },
    {
      "cell_type": "code",
      "execution_count": 1,
      "metadata": {
        "id": "ltMj166M9XZF"
      },
      "outputs": [],
      "source": [
        "import numpy as np\n",
        "import matplotlib.pyplot as plt\n",
        "\n",
        "import tensorflow as tf\n",
        "from tensorflow.keras.models import Sequential\n",
        "from tensorflow.keras.layers import Dense"
      ]
    },
    {
      "cell_type": "code",
      "source": [
        "data = [((0,0),0), ((0,1),1), ((1,0),1), ((1,1),0)]\n",
        "Xt = np.array([a for a,b in data])\n",
        "Yt = np.array([[b for a,b in data]]).T\n",
        "print (Xt.shape, Yt.shape)\n"
      ],
      "metadata": {
        "colab": {
          "base_uri": "https://localhost:8080/"
        },
        "id": "mJBu3fbk-NRP",
        "outputId": "7b276ff8-aa33-4c3a-b509-4064023f38d9"
      },
      "execution_count": 2,
      "outputs": [
        {
          "output_type": "stream",
          "name": "stdout",
          "text": [
            "(4, 2) (4, 1)\n"
          ]
        }
      ]
    },
    {
      "cell_type": "code",
      "source": [
        "tf.keras.backend.clear_session()"
      ],
      "metadata": {
        "id": "SvmYOGHREx_1"
      },
      "execution_count": 3,
      "outputs": []
    },
    {
      "cell_type": "code",
      "source": [
        "tf.random.set_seed(2200)  # applied to achieve consistent results\n",
        "model = Sequential(\n",
        "    [\n",
        "        tf.keras.Input(shape=(2,)),\n",
        "        Dense(2, activation='sigmoid', name = 'layer1'),\n",
        "        Dense(1, activation='sigmoid', name = 'layer2')\n",
        "     ]\n",
        ")"
      ],
      "metadata": {
        "id": "allxcdyI-MTw"
      },
      "execution_count": 4,
      "outputs": []
    },
    {
      "cell_type": "code",
      "source": [
        "model.summary()"
      ],
      "metadata": {
        "colab": {
          "base_uri": "https://localhost:8080/"
        },
        "id": "aTsfQIzc_iPk",
        "outputId": "704c681b-5bac-409c-eab7-449d56ccd1f9"
      },
      "execution_count": 5,
      "outputs": [
        {
          "output_type": "stream",
          "name": "stdout",
          "text": [
            "Model: \"sequential\"\n",
            "_________________________________________________________________\n",
            " Layer (type)                Output Shape              Param #   \n",
            "=================================================================\n",
            " layer1 (Dense)              (None, 2)                 6         \n",
            "                                                                 \n",
            " layer2 (Dense)              (None, 1)                 3         \n",
            "                                                                 \n",
            "=================================================================\n",
            "Total params: 9\n",
            "Trainable params: 9\n",
            "Non-trainable params: 0\n",
            "_________________________________________________________________\n"
          ]
        }
      ]
    },
    {
      "cell_type": "code",
      "source": [
        "model.compile(\n",
        "    loss = tf.keras.losses.BinaryCrossentropy(),\n",
        "    optimizer = tf.keras.optimizers.Adam(learning_rate=0.3),\n",
        ")\n",
        "\n",
        "model.fit(\n",
        "    Xt,Yt,            \n",
        "    epochs=100,\n",
        ")"
      ],
      "metadata": {
        "colab": {
          "base_uri": "https://localhost:8080/"
        },
        "id": "OENMtizz_iQs",
        "outputId": "05a785e9-fec4-468b-ff25-4b3125536801"
      },
      "execution_count": 6,
      "outputs": [
        {
          "output_type": "stream",
          "name": "stdout",
          "text": [
            "Epoch 1/100\n",
            "1/1 [==============================] - 1s 1s/step - loss: 0.8055\n",
            "Epoch 2/100\n",
            "1/1 [==============================] - 0s 14ms/step - loss: 0.6978\n",
            "Epoch 3/100\n",
            "1/1 [==============================] - 0s 12ms/step - loss: 0.7051\n",
            "Epoch 4/100\n",
            "1/1 [==============================] - 0s 14ms/step - loss: 0.7295\n",
            "Epoch 5/100\n",
            "1/1 [==============================] - 0s 11ms/step - loss: 0.7339\n",
            "Epoch 6/100\n",
            "1/1 [==============================] - 0s 11ms/step - loss: 0.7232\n",
            "Epoch 7/100\n",
            "1/1 [==============================] - 0s 11ms/step - loss: 0.7078\n",
            "Epoch 8/100\n",
            "1/1 [==============================] - 0s 12ms/step - loss: 0.6950\n",
            "Epoch 9/100\n",
            "1/1 [==============================] - 0s 10ms/step - loss: 0.6885\n",
            "Epoch 10/100\n",
            "1/1 [==============================] - 0s 17ms/step - loss: 0.6884\n",
            "Epoch 11/100\n",
            "1/1 [==============================] - 0s 11ms/step - loss: 0.6916\n",
            "Epoch 12/100\n",
            "1/1 [==============================] - 0s 10ms/step - loss: 0.6939\n",
            "Epoch 13/100\n",
            "1/1 [==============================] - 0s 10ms/step - loss: 0.6925\n",
            "Epoch 14/100\n",
            "1/1 [==============================] - 0s 11ms/step - loss: 0.6867\n",
            "Epoch 15/100\n",
            "1/1 [==============================] - 0s 11ms/step - loss: 0.6776\n",
            "Epoch 16/100\n",
            "1/1 [==============================] - 0s 12ms/step - loss: 0.6665\n",
            "Epoch 17/100\n",
            "1/1 [==============================] - 0s 10ms/step - loss: 0.6543\n",
            "Epoch 18/100\n",
            "1/1 [==============================] - 0s 16ms/step - loss: 0.6408\n",
            "Epoch 19/100\n",
            "1/1 [==============================] - 0s 11ms/step - loss: 0.6259\n",
            "Epoch 20/100\n",
            "1/1 [==============================] - 0s 12ms/step - loss: 0.6091\n",
            "Epoch 21/100\n",
            "1/1 [==============================] - 0s 14ms/step - loss: 0.5910\n",
            "Epoch 22/100\n",
            "1/1 [==============================] - 0s 11ms/step - loss: 0.5729\n",
            "Epoch 23/100\n",
            "1/1 [==============================] - 0s 14ms/step - loss: 0.5563\n",
            "Epoch 24/100\n",
            "1/1 [==============================] - 0s 12ms/step - loss: 0.5424\n",
            "Epoch 25/100\n",
            "1/1 [==============================] - 0s 13ms/step - loss: 0.5313\n",
            "Epoch 26/100\n",
            "1/1 [==============================] - 0s 13ms/step - loss: 0.5225\n",
            "Epoch 27/100\n",
            "1/1 [==============================] - 0s 14ms/step - loss: 0.5151\n",
            "Epoch 28/100\n",
            "1/1 [==============================] - 0s 11ms/step - loss: 0.5087\n",
            "Epoch 29/100\n",
            "1/1 [==============================] - 0s 12ms/step - loss: 0.5030\n",
            "Epoch 30/100\n",
            "1/1 [==============================] - 0s 12ms/step - loss: 0.4982\n",
            "Epoch 31/100\n",
            "1/1 [==============================] - 0s 12ms/step - loss: 0.4942\n",
            "Epoch 32/100\n",
            "1/1 [==============================] - 0s 13ms/step - loss: 0.4908\n",
            "Epoch 33/100\n",
            "1/1 [==============================] - 0s 12ms/step - loss: 0.4879\n",
            "Epoch 34/100\n",
            "1/1 [==============================] - 0s 11ms/step - loss: 0.4855\n",
            "Epoch 35/100\n",
            "1/1 [==============================] - 0s 15ms/step - loss: 0.4835\n",
            "Epoch 36/100\n",
            "1/1 [==============================] - 0s 19ms/step - loss: 0.4817\n",
            "Epoch 37/100\n",
            "1/1 [==============================] - 0s 32ms/step - loss: 0.4802\n",
            "Epoch 38/100\n",
            "1/1 [==============================] - 0s 21ms/step - loss: 0.4789\n",
            "Epoch 39/100\n",
            "1/1 [==============================] - 0s 16ms/step - loss: 0.4778\n",
            "Epoch 40/100\n",
            "1/1 [==============================] - 0s 25ms/step - loss: 0.4767\n",
            "Epoch 41/100\n",
            "1/1 [==============================] - 0s 13ms/step - loss: 0.4757\n",
            "Epoch 42/100\n",
            "1/1 [==============================] - 0s 16ms/step - loss: 0.4746\n",
            "Epoch 43/100\n",
            "1/1 [==============================] - 0s 13ms/step - loss: 0.4733\n",
            "Epoch 44/100\n",
            "1/1 [==============================] - 0s 11ms/step - loss: 0.4718\n",
            "Epoch 45/100\n",
            "1/1 [==============================] - 0s 12ms/step - loss: 0.4699\n",
            "Epoch 46/100\n",
            "1/1 [==============================] - 0s 11ms/step - loss: 0.4676\n",
            "Epoch 47/100\n",
            "1/1 [==============================] - 0s 11ms/step - loss: 0.4648\n",
            "Epoch 48/100\n",
            "1/1 [==============================] - 0s 16ms/step - loss: 0.4613\n",
            "Epoch 49/100\n",
            "1/1 [==============================] - 0s 16ms/step - loss: 0.4572\n",
            "Epoch 50/100\n",
            "1/1 [==============================] - 0s 14ms/step - loss: 0.4522\n",
            "Epoch 51/100\n",
            "1/1 [==============================] - 0s 16ms/step - loss: 0.4463\n",
            "Epoch 52/100\n",
            "1/1 [==============================] - 0s 11ms/step - loss: 0.4389\n",
            "Epoch 53/100\n",
            "1/1 [==============================] - 0s 9ms/step - loss: 0.4299\n",
            "Epoch 54/100\n",
            "1/1 [==============================] - 0s 13ms/step - loss: 0.4198\n",
            "Epoch 55/100\n",
            "1/1 [==============================] - 0s 10ms/step - loss: 0.4094\n",
            "Epoch 56/100\n",
            "1/1 [==============================] - 0s 10ms/step - loss: 0.3992\n",
            "Epoch 57/100\n",
            "1/1 [==============================] - 0s 11ms/step - loss: 0.3894\n",
            "Epoch 58/100\n",
            "1/1 [==============================] - 0s 7ms/step - loss: 0.3797\n",
            "Epoch 59/100\n",
            "1/1 [==============================] - 0s 26ms/step - loss: 0.3698\n",
            "Epoch 60/100\n",
            "1/1 [==============================] - 0s 14ms/step - loss: 0.3588\n",
            "Epoch 61/100\n",
            "1/1 [==============================] - 0s 9ms/step - loss: 0.3450\n",
            "Epoch 62/100\n",
            "1/1 [==============================] - 0s 10ms/step - loss: 0.3257\n",
            "Epoch 63/100\n",
            "1/1 [==============================] - 0s 9ms/step - loss: 0.2986\n",
            "Epoch 64/100\n",
            "1/1 [==============================] - 0s 8ms/step - loss: 0.2676\n",
            "Epoch 65/100\n",
            "1/1 [==============================] - 0s 8ms/step - loss: 0.2402\n",
            "Epoch 66/100\n",
            "1/1 [==============================] - 0s 11ms/step - loss: 0.2118\n",
            "Epoch 67/100\n",
            "1/1 [==============================] - 0s 19ms/step - loss: 0.1805\n",
            "Epoch 68/100\n",
            "1/1 [==============================] - 0s 11ms/step - loss: 0.1546\n",
            "Epoch 69/100\n",
            "1/1 [==============================] - 0s 7ms/step - loss: 0.1369\n",
            "Epoch 70/100\n",
            "1/1 [==============================] - 0s 7ms/step - loss: 0.1236\n",
            "Epoch 71/100\n",
            "1/1 [==============================] - 0s 6ms/step - loss: 0.1106\n",
            "Epoch 72/100\n",
            "1/1 [==============================] - 0s 6ms/step - loss: 0.0968\n",
            "Epoch 73/100\n",
            "1/1 [==============================] - 0s 7ms/step - loss: 0.0837\n",
            "Epoch 74/100\n",
            "1/1 [==============================] - 0s 9ms/step - loss: 0.0732\n",
            "Epoch 75/100\n",
            "1/1 [==============================] - 0s 8ms/step - loss: 0.0653\n",
            "Epoch 76/100\n",
            "1/1 [==============================] - 0s 6ms/step - loss: 0.0589\n",
            "Epoch 77/100\n",
            "1/1 [==============================] - 0s 40ms/step - loss: 0.0529\n",
            "Epoch 78/100\n",
            "1/1 [==============================] - 0s 12ms/step - loss: 0.0470\n",
            "Epoch 79/100\n",
            "1/1 [==============================] - 0s 10ms/step - loss: 0.0416\n",
            "Epoch 80/100\n",
            "1/1 [==============================] - 0s 12ms/step - loss: 0.0369\n",
            "Epoch 81/100\n",
            "1/1 [==============================] - 0s 19ms/step - loss: 0.0331\n",
            "Epoch 82/100\n",
            "1/1 [==============================] - 0s 16ms/step - loss: 0.0300\n",
            "Epoch 83/100\n",
            "1/1 [==============================] - 0s 13ms/step - loss: 0.0275\n",
            "Epoch 84/100\n",
            "1/1 [==============================] - 0s 16ms/step - loss: 0.0254\n",
            "Epoch 85/100\n",
            "1/1 [==============================] - 0s 20ms/step - loss: 0.0237\n",
            "Epoch 86/100\n",
            "1/1 [==============================] - 0s 8ms/step - loss: 0.0221\n",
            "Epoch 87/100\n",
            "1/1 [==============================] - 0s 14ms/step - loss: 0.0207\n",
            "Epoch 88/100\n",
            "1/1 [==============================] - 0s 22ms/step - loss: 0.0194\n",
            "Epoch 89/100\n",
            "1/1 [==============================] - 0s 14ms/step - loss: 0.0183\n",
            "Epoch 90/100\n",
            "1/1 [==============================] - 0s 17ms/step - loss: 0.0173\n",
            "Epoch 91/100\n",
            "1/1 [==============================] - 0s 49ms/step - loss: 0.0164\n",
            "Epoch 92/100\n",
            "1/1 [==============================] - 0s 26ms/step - loss: 0.0155\n",
            "Epoch 93/100\n",
            "1/1 [==============================] - 0s 13ms/step - loss: 0.0148\n",
            "Epoch 94/100\n",
            "1/1 [==============================] - 0s 10ms/step - loss: 0.0141\n",
            "Epoch 95/100\n",
            "1/1 [==============================] - 0s 10ms/step - loss: 0.0135\n",
            "Epoch 96/100\n",
            "1/1 [==============================] - 0s 8ms/step - loss: 0.0129\n",
            "Epoch 97/100\n",
            "1/1 [==============================] - 0s 9ms/step - loss: 0.0124\n",
            "Epoch 98/100\n",
            "1/1 [==============================] - 0s 9ms/step - loss: 0.0120\n",
            "Epoch 99/100\n",
            "1/1 [==============================] - 0s 22ms/step - loss: 0.0115\n",
            "Epoch 100/100\n",
            "1/1 [==============================] - 0s 10ms/step - loss: 0.0111\n"
          ]
        },
        {
          "output_type": "execute_result",
          "data": {
            "text/plain": [
              "<keras.callbacks.History at 0x7f68a6d17950>"
            ]
          },
          "metadata": {},
          "execution_count": 6
        }
      ]
    },
    {
      "cell_type": "code",
      "source": [
        "predictions = model.predict(Xt)\n",
        "out = [(round(float(a),3),round(float(b),3)) for a,b in zip(predictions, Yt)]\n",
        "print (out)"
      ],
      "metadata": {
        "colab": {
          "base_uri": "https://localhost:8080/"
        },
        "id": "Nv3DsX18ANlx",
        "outputId": "0a42305e-e219-4206-adb1-9c3945a50d01"
      },
      "execution_count": 7,
      "outputs": [
        {
          "output_type": "stream",
          "name": "stdout",
          "text": [
            "[(0.01, 0.0), (0.991, 1.0), (0.992, 1.0), (0.017, 0.0)]\n"
          ]
        }
      ]
    }
  ]
}