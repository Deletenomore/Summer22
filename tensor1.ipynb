{
  "nbformat": 4,
  "nbformat_minor": 0,
  "metadata": {
    "colab": {
      "name": "tensor1.ipynb",
      "provenance": [],
      "authorship_tag": "ABX9TyPlocsOS2gkh+ycUsGo1UN8",
      "include_colab_link": true
    },
    "kernelspec": {
      "name": "python3",
      "display_name": "Python 3"
    },
    "language_info": {
      "name": "python"
    }
  },
  "cells": [
    {
      "cell_type": "markdown",
      "metadata": {
        "id": "view-in-github",
        "colab_type": "text"
      },
      "source": [
        "<a href=\"https://colab.research.google.com/github/everestso/Summer22/blob/main/tensor1.ipynb\" target=\"_parent\"><img src=\"https://colab.research.google.com/assets/colab-badge.svg\" alt=\"Open In Colab\"/></a>"
      ]
    },
    {
      "cell_type": "markdown",
      "source": [
        "# Tensorflow"
      ],
      "metadata": {
        "id": "npPGQOsDB-Mg"
      }
    },
    {
      "cell_type": "code",
      "execution_count": 1,
      "metadata": {
        "id": "ltMj166M9XZF"
      },
      "outputs": [],
      "source": [
        "import numpy as np\n",
        "import matplotlib.pyplot as plt\n",
        "\n",
        "import tensorflow as tf\n",
        "from tensorflow.keras.models import Sequential\n",
        "from tensorflow.keras.layers import Dense"
      ]
    },
    {
      "cell_type": "code",
      "source": [
        "data = [((0,0),0), ((0,1),1), ((1,0),1), ((1,1),0)]\n",
        "Xt = np.array([a for a,b in data])\n",
        "Yt = np.array([[b for a,b in data]]).T\n",
        "print (Xt.shape, Yt.shape)\n"
      ],
      "metadata": {
        "colab": {
          "base_uri": "https://localhost:8080/"
        },
        "id": "mJBu3fbk-NRP",
        "outputId": "08fcc1cc-1a49-42e5-9284-ca33cca2a03b"
      },
      "execution_count": 2,
      "outputs": [
        {
          "output_type": "stream",
          "name": "stdout",
          "text": [
            "(4, 2) (4, 1)\n"
          ]
        }
      ]
    },
    {
      "cell_type": "code",
      "source": [
        "tf.keras.backend.clear_session()"
      ],
      "metadata": {
        "id": "SvmYOGHREx_1"
      },
      "execution_count": 3,
      "outputs": []
    },
    {
      "cell_type": "code",
      "source": [
        "tf.random.set_seed(500)  # applied to achieve consistent results\n",
        "model = Sequential(\n",
        "    [\n",
        "        tf.keras.Input(shape=(2,)),\n",
        "        Dense(3, activation='sigmoid', name = 'layer1'),\n",
        "        Dense(1, activation='sigmoid', name = 'layer2')\n",
        "     ]\n",
        ")"
      ],
      "metadata": {
        "id": "allxcdyI-MTw"
      },
      "execution_count": 4,
      "outputs": []
    },
    {
      "cell_type": "code",
      "source": [
        "model.summary()"
      ],
      "metadata": {
        "colab": {
          "base_uri": "https://localhost:8080/"
        },
        "id": "aTsfQIzc_iPk",
        "outputId": "28c1991c-3c81-4b5d-e7bd-52b6c5e8a5e9"
      },
      "execution_count": 5,
      "outputs": [
        {
          "output_type": "stream",
          "name": "stdout",
          "text": [
            "Model: \"sequential\"\n",
            "_________________________________________________________________\n",
            " Layer (type)                Output Shape              Param #   \n",
            "=================================================================\n",
            " layer1 (Dense)              (None, 3)                 9         \n",
            "                                                                 \n",
            " layer2 (Dense)              (None, 1)                 4         \n",
            "                                                                 \n",
            "=================================================================\n",
            "Total params: 13\n",
            "Trainable params: 13\n",
            "Non-trainable params: 0\n",
            "_________________________________________________________________\n"
          ]
        }
      ]
    },
    {
      "cell_type": "code",
      "source": [
        "model.compile(\n",
        "    loss = tf.keras.losses.BinaryCrossentropy(),\n",
        "    optimizer = tf.keras.optimizers.Adam(learning_rate=0.5),\n",
        ")\n",
        "\n",
        "model.fit(\n",
        "    Xt,Yt,            \n",
        "    epochs=50,\n",
        ")"
      ],
      "metadata": {
        "colab": {
          "base_uri": "https://localhost:8080/"
        },
        "id": "OENMtizz_iQs",
        "outputId": "f68c5808-9031-4219-ec61-9ae6f4183848"
      },
      "execution_count": 6,
      "outputs": [
        {
          "output_type": "stream",
          "name": "stdout",
          "text": [
            "Epoch 1/50\n",
            "1/1 [==============================] - 1s 1s/step - loss: 0.7088\n",
            "Epoch 2/50\n",
            "1/1 [==============================] - 0s 10ms/step - loss: 0.9207\n",
            "Epoch 3/50\n",
            "1/1 [==============================] - 0s 13ms/step - loss: 0.7392\n",
            "Epoch 4/50\n",
            "1/1 [==============================] - 0s 11ms/step - loss: 0.7054\n",
            "Epoch 5/50\n",
            "1/1 [==============================] - 0s 6ms/step - loss: 0.7560\n",
            "Epoch 6/50\n",
            "1/1 [==============================] - 0s 7ms/step - loss: 0.7382\n",
            "Epoch 7/50\n",
            "1/1 [==============================] - 0s 12ms/step - loss: 0.7088\n",
            "Epoch 8/50\n",
            "1/1 [==============================] - 0s 10ms/step - loss: 0.6939\n",
            "Epoch 9/50\n",
            "1/1 [==============================] - 0s 7ms/step - loss: 0.6899\n",
            "Epoch 10/50\n",
            "1/1 [==============================] - 0s 8ms/step - loss: 0.6928\n",
            "Epoch 11/50\n",
            "1/1 [==============================] - 0s 7ms/step - loss: 0.6980\n",
            "Epoch 12/50\n",
            "1/1 [==============================] - 0s 14ms/step - loss: 0.7013\n",
            "Epoch 13/50\n",
            "1/1 [==============================] - 0s 13ms/step - loss: 0.7005\n",
            "Epoch 14/50\n",
            "1/1 [==============================] - 0s 11ms/step - loss: 0.6957\n",
            "Epoch 15/50\n",
            "1/1 [==============================] - 0s 25ms/step - loss: 0.6886\n",
            "Epoch 16/50\n",
            "1/1 [==============================] - 0s 11ms/step - loss: 0.6805\n",
            "Epoch 17/50\n",
            "1/1 [==============================] - 0s 13ms/step - loss: 0.6714\n",
            "Epoch 18/50\n",
            "1/1 [==============================] - 0s 18ms/step - loss: 0.6600\n",
            "Epoch 19/50\n",
            "1/1 [==============================] - 0s 13ms/step - loss: 0.6444\n",
            "Epoch 20/50\n",
            "1/1 [==============================] - 0s 13ms/step - loss: 0.6266\n",
            "Epoch 21/50\n",
            "1/1 [==============================] - 0s 27ms/step - loss: 0.6107\n",
            "Epoch 22/50\n",
            "1/1 [==============================] - 0s 11ms/step - loss: 0.5963\n",
            "Epoch 23/50\n",
            "1/1 [==============================] - 0s 17ms/step - loss: 0.5764\n",
            "Epoch 24/50\n",
            "1/1 [==============================] - 0s 31ms/step - loss: 0.5479\n",
            "Epoch 25/50\n",
            "1/1 [==============================] - 0s 19ms/step - loss: 0.5125\n",
            "Epoch 26/50\n",
            "1/1 [==============================] - 0s 14ms/step - loss: 0.4691\n",
            "Epoch 27/50\n",
            "1/1 [==============================] - 0s 11ms/step - loss: 0.4142\n",
            "Epoch 28/50\n",
            "1/1 [==============================] - 0s 35ms/step - loss: 0.3542\n",
            "Epoch 29/50\n",
            "1/1 [==============================] - 0s 18ms/step - loss: 0.3042\n",
            "Epoch 30/50\n",
            "1/1 [==============================] - 0s 17ms/step - loss: 0.2692\n",
            "Epoch 31/50\n",
            "1/1 [==============================] - 0s 16ms/step - loss: 0.2369\n",
            "Epoch 32/50\n",
            "1/1 [==============================] - 0s 18ms/step - loss: 0.1971\n",
            "Epoch 33/50\n",
            "1/1 [==============================] - 0s 22ms/step - loss: 0.1565\n",
            "Epoch 34/50\n",
            "1/1 [==============================] - 0s 9ms/step - loss: 0.1235\n",
            "Epoch 35/50\n",
            "1/1 [==============================] - 0s 43ms/step - loss: 0.0991\n",
            "Epoch 36/50\n",
            "1/1 [==============================] - 0s 18ms/step - loss: 0.0811\n",
            "Epoch 37/50\n",
            "1/1 [==============================] - 0s 9ms/step - loss: 0.0675\n",
            "Epoch 38/50\n",
            "1/1 [==============================] - 0s 8ms/step - loss: 0.0568\n",
            "Epoch 39/50\n",
            "1/1 [==============================] - 0s 12ms/step - loss: 0.0483\n",
            "Epoch 40/50\n",
            "1/1 [==============================] - 0s 11ms/step - loss: 0.0413\n",
            "Epoch 41/50\n",
            "1/1 [==============================] - 0s 12ms/step - loss: 0.0356\n",
            "Epoch 42/50\n",
            "1/1 [==============================] - 0s 25ms/step - loss: 0.0310\n",
            "Epoch 43/50\n",
            "1/1 [==============================] - 0s 18ms/step - loss: 0.0271\n",
            "Epoch 44/50\n",
            "1/1 [==============================] - 0s 16ms/step - loss: 0.0240\n",
            "Epoch 45/50\n",
            "1/1 [==============================] - 0s 15ms/step - loss: 0.0214\n",
            "Epoch 46/50\n",
            "1/1 [==============================] - 0s 19ms/step - loss: 0.0192\n",
            "Epoch 47/50\n",
            "1/1 [==============================] - 0s 15ms/step - loss: 0.0174\n",
            "Epoch 48/50\n",
            "1/1 [==============================] - 0s 16ms/step - loss: 0.0158\n",
            "Epoch 49/50\n",
            "1/1 [==============================] - 0s 33ms/step - loss: 0.0145\n",
            "Epoch 50/50\n",
            "1/1 [==============================] - 0s 23ms/step - loss: 0.0134\n"
          ]
        },
        {
          "output_type": "execute_result",
          "data": {
            "text/plain": [
              "<keras.callbacks.History at 0x7ff9d81caa90>"
            ]
          },
          "metadata": {},
          "execution_count": 6
        }
      ]
    },
    {
      "cell_type": "code",
      "source": [
        "predictions = model.predict(Xt)\n",
        "out = [(round(float(a),3),round(float(b),3)) for a,b in zip(predictions, Yt)]\n",
        "print (out)"
      ],
      "metadata": {
        "colab": {
          "base_uri": "https://localhost:8080/"
        },
        "id": "Nv3DsX18ANlx",
        "outputId": "08dbdd55-911e-4066-f57a-5c74294c8ffe"
      },
      "execution_count": 7,
      "outputs": [
        {
          "output_type": "stream",
          "name": "stdout",
          "text": [
            "[(0.003, 0.0), (0.992, 1.0), (0.993, 1.0), (0.032, 0.0)]\n"
          ]
        }
      ]
    }
  ]
}