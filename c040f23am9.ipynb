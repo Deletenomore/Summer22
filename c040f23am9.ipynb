{
  "nbformat": 4,
  "nbformat_minor": 0,
  "metadata": {
    "colab": {
      "provenance": [],
      "authorship_tag": "ABX9TyNVP7r5TeJ2ELFCTY42x0vZ",
      "include_colab_link": true
    },
    "kernelspec": {
      "name": "python3",
      "display_name": "Python 3"
    },
    "language_info": {
      "name": "python"
    }
  },
  "cells": [
    {
      "cell_type": "markdown",
      "metadata": {
        "id": "view-in-github",
        "colab_type": "text"
      },
      "source": [
        "<a href=\"https://colab.research.google.com/github/everestso/Summer22/blob/main/c040f23am9.ipynb\" target=\"_parent\"><img src=\"https://colab.research.google.com/assets/colab-badge.svg\" alt=\"Open In Colab\"/></a>"
      ]
    },
    {
      "cell_type": "code",
      "execution_count": 12,
      "metadata": {
        "colab": {
          "base_uri": "https://localhost:8080/"
        },
        "id": "JuKmj9kExlUY",
        "outputId": "6b0c248e-e5db-4a11-f0f6-7e03f50c925b"
      },
      "outputs": [
        {
          "output_type": "stream",
          "name": "stdout",
          "text": [
            "Overwriting ex1.cpp\n"
          ]
        }
      ],
      "source": [
        "%%writefile ex1.cpp\n",
        "\n",
        "#include <iostream>\n",
        "using namespace std;\n",
        "int main(){\n",
        "   cout << \"WELCOME ! \" ;\n",
        "   return 0;\n",
        "}"
      ]
    },
    {
      "cell_type": "code",
      "source": [
        "%%shell\n",
        "g++ ex1.cpp -o out\n",
        "./out\n"
      ],
      "metadata": {
        "colab": {
          "base_uri": "https://localhost:8080/"
        },
        "id": "qnpPOPiDxydn",
        "outputId": "e6e678c0-114c-43d4-d7fb-e005ec644222"
      },
      "execution_count": 13,
      "outputs": [
        {
          "output_type": "stream",
          "name": "stdout",
          "text": [
            "WELCOME ! "
          ]
        },
        {
          "output_type": "execute_result",
          "data": {
            "text/plain": []
          },
          "metadata": {},
          "execution_count": 13
        }
      ]
    },
    {
      "cell_type": "markdown",
      "source": [
        "```c++\n",
        "\n",
        "#include <iostream>\n",
        "using namespace std;\n",
        "int main(){\n",
        "   cout << \"WELCOME ! \" ;\n",
        "   return 0;\n",
        "}\n",
        "\n",
        "```"
      ],
      "metadata": {
        "id": "DAkgrKbg2Gfi"
      }
    }
  ]
}