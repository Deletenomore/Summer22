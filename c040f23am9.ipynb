{
  "nbformat": 4,
  "nbformat_minor": 0,
  "metadata": {
    "colab": {
      "provenance": [],
      "authorship_tag": "ABX9TyMHh11k8gAUb9g+6WfsUr4M",
      "include_colab_link": true
    },
    "kernelspec": {
      "name": "python3",
      "display_name": "Python 3"
    },
    "language_info": {
      "name": "python"
    }
  },
  "cells": [
    {
      "cell_type": "markdown",
      "metadata": {
        "id": "view-in-github",
        "colab_type": "text"
      },
      "source": [
        "<a href=\"https://colab.research.google.com/github/everestso/Summer22/blob/main/c040f23am9.ipynb\" target=\"_parent\"><img src=\"https://colab.research.google.com/assets/colab-badge.svg\" alt=\"Open In Colab\"/></a>"
      ]
    },
    {
      "cell_type": "markdown",
      "source": [
        "# C++ Example 1\n",
        "\n",
        "```c++\n",
        "\n",
        "#include <iostream>\n",
        "using namespace std;\n",
        "int main(){\n",
        "   cout << \"WELCOME ! \" ;\n",
        "   return 0;\n",
        "}\n",
        "\n",
        "```"
      ],
      "metadata": {
        "id": "Mr0kr2JI5CAX"
      }
    },
    {
      "cell_type": "code",
      "execution_count": 15,
      "metadata": {
        "colab": {
          "base_uri": "https://localhost:8080/"
        },
        "id": "JuKmj9kExlUY",
        "outputId": "db825064-0d67-4986-eb12-17e350f5098e"
      },
      "outputs": [
        {
          "output_type": "stream",
          "name": "stdout",
          "text": [
            "Overwriting ex1.cpp\n"
          ]
        }
      ],
      "source": [
        "%%writefile ex1.cpp\n",
        "\n",
        "#include <iostream>\n",
        "using namespace std;\n",
        "int main(){\n",
        "   cout << \"WELCOME ! \" ;\n",
        "   return 0;\n",
        "}"
      ]
    },
    {
      "cell_type": "code",
      "source": [
        "%%shell\n",
        "g++ ex1.cpp -o out\n",
        "./out\n"
      ],
      "metadata": {
        "colab": {
          "base_uri": "https://localhost:8080/"
        },
        "id": "qnpPOPiDxydn",
        "outputId": "5dfa1c6c-0436-481f-e49c-39e88e4f8bce"
      },
      "execution_count": 16,
      "outputs": [
        {
          "output_type": "stream",
          "name": "stdout",
          "text": [
            "WELCOME ! "
          ]
        },
        {
          "output_type": "execute_result",
          "data": {
            "text/plain": []
          },
          "metadata": {},
          "execution_count": 16
        }
      ]
    },
    {
      "cell_type": "markdown",
      "source": [
        "# C++ Example 2\n",
        "\n",
        "```c++\n",
        "#include <iostream>\n",
        "using namespace std;\n",
        "int main(){\n",
        "  int x, y;\n",
        "  cin >> x >> y;\n",
        "  cout << \"x=\" << x << endl;\n",
        "  cout << \"y=\" << y << endl;\n",
        "  return 0;\n",
        "}\n",
        "```"
      ],
      "metadata": {
        "id": "V3ZNpmMv4_5w"
      }
    },
    {
      "cell_type": "code",
      "source": [
        "%%writefile ex2.cpp\n",
        "\n",
        "#include <iostream>\n",
        "using namespace std;\n",
        "int main(){\n",
        "  int x, y;\n",
        "  cin >> x >> y;\n",
        "  cout << \"x=\" << x << endl;\n",
        "  cout << \"y=\" << y << endl;\n",
        "  return 0;\n",
        "}"
      ],
      "metadata": {
        "colab": {
          "base_uri": "https://localhost:8080/"
        },
        "id": "mYKs5PDS4EaP",
        "outputId": "107036f7-9a17-4d9d-8935-6047f20f6a4a"
      },
      "execution_count": 17,
      "outputs": [
        {
          "output_type": "stream",
          "name": "stdout",
          "text": [
            "Overwriting ex2.cpp\n"
          ]
        }
      ]
    },
    {
      "cell_type": "code",
      "source": [
        "%%writefile input.txt\n",
        "3\n",
        "4\n"
      ],
      "metadata": {
        "colab": {
          "base_uri": "https://localhost:8080/"
        },
        "id": "7PohqEtK4UFA",
        "outputId": "16ebafb7-f9b1-484d-ad72-2027e70dd584"
      },
      "execution_count": 18,
      "outputs": [
        {
          "output_type": "stream",
          "name": "stdout",
          "text": [
            "Overwriting input.txt\n"
          ]
        }
      ]
    },
    {
      "cell_type": "code",
      "source": [
        "%%shell\n",
        "g++ ex2.cpp -o out\n",
        "./out < input.txt\n"
      ],
      "metadata": {
        "colab": {
          "base_uri": "https://localhost:8080/"
        },
        "id": "ffrnhiJo4au-",
        "outputId": "3ed7c145-01c4-4caf-a778-f2c4f02f0fd1"
      },
      "execution_count": 19,
      "outputs": [
        {
          "output_type": "stream",
          "name": "stdout",
          "text": [
            "x=3\n",
            "y=4\n"
          ]
        },
        {
          "output_type": "execute_result",
          "data": {
            "text/plain": []
          },
          "metadata": {},
          "execution_count": 19
        }
      ]
    }
  ]
}