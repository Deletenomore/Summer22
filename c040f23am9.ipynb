{
  "nbformat": 4,
  "nbformat_minor": 0,
  "metadata": {
    "colab": {
      "provenance": [],
      "authorship_tag": "ABX9TyPHlsl/ScJDSZ2OXjxRklik",
      "include_colab_link": true
    },
    "kernelspec": {
      "name": "python3",
      "display_name": "Python 3"
    },
    "language_info": {
      "name": "python"
    }
  },
  "cells": [
    {
      "cell_type": "markdown",
      "metadata": {
        "id": "view-in-github",
        "colab_type": "text"
      },
      "source": [
        "<a href=\"https://colab.research.google.com/github/everestso/Summer22/blob/main/c040f23am9.ipynb\" target=\"_parent\"><img src=\"https://colab.research.google.com/assets/colab-badge.svg\" alt=\"Open In Colab\"/></a>"
      ]
    },
    {
      "cell_type": "code",
      "execution_count": null,
      "metadata": {
        "colab": {
          "base_uri": "https://localhost:8080/"
        },
        "id": "JuKmj9kExlUY",
        "outputId": "6b0c248e-e5db-4a11-f0f6-7e03f50c925b"
      },
      "outputs": [
        {
          "output_type": "stream",
          "name": "stdout",
          "text": [
            "Overwriting ex1.cpp\n"
          ]
        }
      ],
      "source": [
        "%%writefile ex1.cpp\n",
        "\n",
        "#include <iostream>\n",
        "using namespace std;\n",
        "int main(){\n",
        "   cout << \"WELCOME ! \" ;\n",
        "   return 0;\n",
        "}"
      ]
    },
    {
      "cell_type": "code",
      "source": [
        "%%shell\n",
        "g++ ex1.cpp -o out\n",
        "./out\n"
      ],
      "metadata": {
        "colab": {
          "base_uri": "https://localhost:8080/"
        },
        "id": "qnpPOPiDxydn",
        "outputId": "e6e678c0-114c-43d4-d7fb-e005ec644222"
      },
      "execution_count": null,
      "outputs": [
        {
          "output_type": "stream",
          "name": "stdout",
          "text": [
            "WELCOME ! "
          ]
        },
        {
          "output_type": "execute_result",
          "data": {
            "text/plain": []
          },
          "metadata": {},
          "execution_count": 13
        }
      ]
    },
    {
      "cell_type": "markdown",
      "source": [
        "```c++\n",
        "\n",
        "#include <iostream>\n",
        "using namespace std;\n",
        "int main(){\n",
        "   cout << \"WELCOME ! \" ;\n",
        "   return 0;\n",
        "}\n",
        "\n",
        "```"
      ],
      "metadata": {
        "id": "DAkgrKbg2Gfi"
      }
    },
    {
      "cell_type": "code",
      "source": [
        "%%writefile ex2.cpp\n",
        "\n",
        "#include <iostream>\n",
        "using namespace std;\n",
        "int main(){\n",
        "  int x, y;\n",
        "  cin >> x >> y;\n",
        "  cout << \"x=\" << x << endl;\n",
        "  cout << \"y=\" << y << endl;\n",
        "  return 0;\n",
        "}"
      ],
      "metadata": {
        "id": "mYKs5PDS4EaP",
        "outputId": "14d79e1c-c4fa-4f52-cfef-4534804d2c6b",
        "colab": {
          "base_uri": "https://localhost:8080/"
        }
      },
      "execution_count": 7,
      "outputs": [
        {
          "output_type": "stream",
          "name": "stdout",
          "text": [
            "Overwriting ex2.cpp\n"
          ]
        }
      ]
    },
    {
      "cell_type": "code",
      "source": [
        "%%writefile input.txt\n",
        "3\n",
        "4\n"
      ],
      "metadata": {
        "id": "7PohqEtK4UFA",
        "outputId": "ceb9a520-6bc5-47a7-acde-e435bf80e258",
        "colab": {
          "base_uri": "https://localhost:8080/"
        }
      },
      "execution_count": 8,
      "outputs": [
        {
          "output_type": "stream",
          "name": "stdout",
          "text": [
            "Overwriting input.txt\n"
          ]
        }
      ]
    },
    {
      "cell_type": "code",
      "source": [
        "%%shell\n",
        "g++ ex2.cpp -o out\n",
        "./out < input.txt\n"
      ],
      "metadata": {
        "id": "ffrnhiJo4au-",
        "outputId": "e7884bf5-b9b8-4554-f0e0-9bd6c9a3b604",
        "colab": {
          "base_uri": "https://localhost:8080/"
        }
      },
      "execution_count": 9,
      "outputs": [
        {
          "output_type": "stream",
          "name": "stdout",
          "text": [
            "x=3\n",
            "y=4\n"
          ]
        },
        {
          "output_type": "execute_result",
          "data": {
            "text/plain": []
          },
          "metadata": {},
          "execution_count": 9
        }
      ]
    }
  ]
}