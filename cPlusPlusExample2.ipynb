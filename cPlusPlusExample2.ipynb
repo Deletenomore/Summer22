{
  "nbformat": 4,
  "nbformat_minor": 0,
  "metadata": {
    "colab": {
      "provenance": [],
      "authorship_tag": "ABX9TyMQjhqWbuwNYgFmuEJoB/Nr",
      "include_colab_link": true
    },
    "kernelspec": {
      "name": "python3",
      "display_name": "Python 3"
    },
    "language_info": {
      "name": "python"
    }
  },
  "cells": [
    {
      "cell_type": "markdown",
      "metadata": {
        "id": "view-in-github",
        "colab_type": "text"
      },
      "source": [
        "<a href=\"https://colab.research.google.com/github/everestso/Summer22/blob/main/cPlusPlusExample2.ipynb\" target=\"_parent\"><img src=\"https://colab.research.google.com/assets/colab-badge.svg\" alt=\"Open In Colab\"/></a>"
      ]
    },
    {
      "cell_type": "markdown",
      "source": [
        "# The Vigenère Cipher"
      ],
      "metadata": {
        "id": "DMVLrp4keYRp"
      }
    },
    {
      "cell_type": "code",
      "execution_count": 1,
      "metadata": {
        "colab": {
          "base_uri": "https://localhost:8080/"
        },
        "id": "dM3r9XJ5eV4R",
        "outputId": "ed1522be-78c3-4033-d490-b91d8e8ba36b"
      },
      "outputs": [
        {
          "output_type": "stream",
          "name": "stdout",
          "text": [
            "Writing ex1.cpp\n"
          ]
        }
      ],
      "source": [
        "%%writefile ex1.cpp\n",
        "#include <iostream>\n",
        "#include <string>\n",
        "using namespace std;\n",
        "\n",
        "char EncryptChar(char c, int key){\n",
        "   if (isupper(c)){\n",
        "      return ((c-'A') + key) %26 + 'A';\n",
        "   }\n",
        "   else if (islower(c)){\n",
        "      return ((c-'a') + key) %26 + 'a';\n",
        "   }\n",
        "   return c;\n",
        "}\n",
        "\n",
        "char DecryptChar(char c, int key){\n",
        "   if (isupper(c)){\n",
        "      return ((c-'A') + 26 - key) %26 + 'A';\n",
        "   }\n",
        "   else if (islower(c)){\n",
        "      return ((c-'a') + 26 - key) %26 + 'a';\n",
        "   }\n",
        "   return c;\n",
        "}\n",
        "\n",
        "string DecryptLineVigenere(string keyWord, string c){\n",
        "   int cLen, kLen, i, j;\n",
        "\n",
        "   cLen = c.length();\n",
        "   kLen = keyWord.length();\n",
        "\n",
        "   i = 0;\n",
        "   j = 0;\n",
        "   while (i<cLen){\n",
        "      j=0;\n",
        "      while(j<kLen && i<cLen){\n",
        "         if (c.at(i)>='A' && c.at(i) <='Z'){\n",
        "            c.at(i) = DecryptChar(c.at(i), keyWord.at(j)-'A'+0);\n",
        "            ++j;\n",
        "         }\n",
        "         ++i;\n",
        "      }\n",
        "   }\n",
        "   return c;\n",
        "}\n",
        "\n",
        "string EncryptLineVigenere(string keyWord, string c){\n",
        "   int cLen, kLen, i, j, endIndex;\n",
        "\n",
        "   cLen = c.length();\n",
        "   kLen = keyWord.length();\n",
        "\n",
        "   i = 0;\n",
        "   j = 0;\n",
        "   while (i<cLen){\n",
        "      j=0;\n",
        "      while(j<kLen && i<cLen){\n",
        "         if (c.at(i)>='A' && c.at(i) <='Z'){\n",
        "            c.at(i) = EncryptChar(c.at(i), keyWord.at(j)-'A'+0);\n",
        "            ++j;\n",
        "         }\n",
        "         ++i;\n",
        "      }\n",
        "   }\n",
        "   return c;\n",
        "}\n",
        "\n",
        "int main(){\n",
        "   string line;\n",
        "\n",
        "   line = \"DA ZFI SFSP AVQ LSNP XYSZW XAL CDAFGQ UISM TPHZGAMK\";\n",
        "   cout << DecryptLineVigenere(\"AMBROISETHOMAS\", line) << endl;\n",
        "\n",
        "   line = \"DO YOU KNOW THE LAND WHERE THE ORANGE TREE BLOSSOMS\";\n",
        "   cout << EncryptLineVigenere(\"AMBROISETHOMAS\", line) << endl;\n",
        "\n",
        "   line = EncryptLineVigenere(\"AMBROISETHOMAS\", line);\n",
        "   cout << DecryptLineVigenere(\"AMBROISETHOMAS\", line) << endl;\n",
        "   return 0;\n",
        "}"
      ]
    },
    {
      "cell_type": "code",
      "source": [
        "%%shell\n",
        "g++ ex1.cpp -o out\n",
        "./out"
      ],
      "metadata": {
        "colab": {
          "base_uri": "https://localhost:8080/"
        },
        "id": "ytCbNEO4ekFV",
        "outputId": "f1bdaa8a-4020-4902-cb70-34ff9234041f"
      },
      "execution_count": 2,
      "outputs": [
        {
          "output_type": "stream",
          "name": "stdout",
          "text": [
            "DO YOU KNOW THE LAND WHERE THE ORANGE TREE BLOSSOMS\n",
            "DA ZFI SFSP AVQ LSNP XYSZW XAL CDAFGQ UISM TPHZGAMK\n",
            "DO YOU KNOW THE LAND WHERE THE ORANGE TREE BLOSSOMS\n"
          ]
        },
        {
          "output_type": "execute_result",
          "data": {
            "text/plain": []
          },
          "metadata": {},
          "execution_count": 2
        }
      ]
    }
  ]
}