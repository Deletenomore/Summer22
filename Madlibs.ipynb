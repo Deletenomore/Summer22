{
  "nbformat": 4,
  "nbformat_minor": 0,
  "metadata": {
    "colab": {
      "provenance": [],
      "authorship_tag": "ABX9TyM3O33v+KyPn0yfzBv7UHI0",
      "include_colab_link": true
    },
    "kernelspec": {
      "name": "python3",
      "display_name": "Python 3"
    },
    "language_info": {
      "name": "python"
    }
  },
  "cells": [
    {
      "cell_type": "markdown",
      "metadata": {
        "id": "view-in-github",
        "colab_type": "text"
      },
      "source": [
        "<a href=\"https://colab.research.google.com/github/everestso/Summer22/blob/main/Madlibs.ipynb\" target=\"_parent\"><img src=\"https://colab.research.google.com/assets/colab-badge.svg\" alt=\"Open In Colab\"/></a>"
      ]
    },
    {
      "cell_type": "markdown",
      "source": [
        "```c++\n",
        "\n",
        "/* mad lib example\n",
        "david ruby\n",
        "9.16.15\n",
        "*/\n",
        "\n",
        "#include <iostream>\n",
        "#include <string>\n",
        "\n",
        "using namespace std;\n",
        "\n",
        "int main(){\n",
        "  string madLib;\n",
        "  string myExclamation;\n",
        "  string myAdverb;\n",
        "  string myNoun;\n",
        "  string myAdjective;\n",
        "\n",
        "  int startPos = 0;\n",
        "\n",
        "  cout << \"Input your exclamation: \";\n",
        "  cin >> myExclamation;\n",
        "  cout << myExclamation << endl;\n",
        "  cout << \"Input your adverb: \";\n",
        "  cin >> myAdverb;\n",
        "  cout << myAdverb << endl;\n",
        "  cout << \"Input your noun: \";\n",
        "  cin >> myNoun;\n",
        "  cout << myNoun << endl;\n",
        "  cout << \"Input your adjective: \";\n",
        "  cin >> myAdjective;\n",
        "  cout << myAdjective << endl;\n",
        "\n",
        "  madLib = \"(EXCL)! he said (ADVERB) as he jumped into his convertible\\n\";\n",
        "  madLib = madLib + \"(NOUN) and drove off with his (ADJ) friend.\\n\";\n",
        "\n",
        "// Replace Exclamation\n",
        "  startPos = madLib.find(\"(EXCL)\");\n",
        "  madLib.replace(startPos, 6, myExclamation);\n",
        "\n",
        "  // Replace Noun\n",
        "  startPos = madLib.find(\"(NOUN)\");\n",
        "  madLib.replace(startPos, 6, myNoun);\n",
        "\n",
        "  // Replace Adjective\n",
        "  startPos = madLib.find(\"(ADJ)\");\n",
        "  madLib.replace(startPos, 5, myAdjective);\n",
        "\n",
        "  // Replace Adverb\n",
        "  startPos = madLib.find(\"(ADVERB)\");\n",
        "  madLib.replace(startPos, 8, myAdverb);\n",
        "\n",
        "  cout << endl << madLib;\n",
        "\n",
        "  return 0;\n",
        "}\n",
        "\n",
        "```"
      ],
      "metadata": {
        "id": "PAaZTjiwRnV5"
      }
    },
    {
      "cell_type": "code",
      "execution_count": 7,
      "metadata": {
        "colab": {
          "base_uri": "https://localhost:8080/"
        },
        "id": "mEnCi-OmRZ56",
        "outputId": "be0a4b93-dc01-4cfc-c2d8-8f72f9b9b4aa"
      },
      "outputs": [
        {
          "output_type": "stream",
          "name": "stdout",
          "text": [
            "Overwriting main.cpp\n"
          ]
        }
      ],
      "source": [
        "%%writefile main.cpp\n",
        "/* mad lib example\n",
        "david ruby\n",
        "9.16.15\n",
        "*/\n",
        "\n",
        "#include <iostream>\n",
        "#include <string>\n",
        "\n",
        "using namespace std;\n",
        "\n",
        "int main(){\n",
        "  string madLib;\n",
        "  string myExclamation;\n",
        "  string myAdverb;\n",
        "  string myNoun;\n",
        "  string myAdjective;\n",
        "\n",
        "  int startPos = 0;\n",
        "\n",
        "  cout << \"Input your exclamation: \";\n",
        "  cin >> myExclamation;\n",
        "  cout << myExclamation << endl;\n",
        "  cout << \"Input your adverb: \";\n",
        "  cin >> myAdverb;\n",
        "  cout << myAdverb << endl;\n",
        "  cout << \"Input your noun: \";\n",
        "  cin >> myNoun;\n",
        "  cout << myNoun << endl;\n",
        "  cout << \"Input your adjective: \";\n",
        "  cin >> myAdjective;\n",
        "  cout << myAdjective << endl;\n",
        "\n",
        "  madLib = \"(EXCL)! he said (ADVERB) as he jumped into his convertible\\n\";\n",
        "  madLib = madLib + \"(NOUN) and drove off with his (ADJ) friend.\\n\";\n",
        "\n",
        "// Replace Exclamation\n",
        "  startPos = madLib.find(\"(EXCL)\");\n",
        "  madLib.replace(startPos, 6, myExclamation);\n",
        "\n",
        "  // Replace Noun\n",
        "  startPos = madLib.find(\"(NOUN)\");\n",
        "  madLib.replace(startPos, 6, myNoun);\n",
        "\n",
        "  // Replace Adjective\n",
        "  startPos = madLib.find(\"(ADJ)\");\n",
        "  madLib.replace(startPos, 5, myAdjective);\n",
        "\n",
        "  // Replace Adverb\n",
        "  startPos = madLib.find(\"(ADVERB)\");\n",
        "  madLib.replace(startPos, 8, myAdverb);\n",
        "\n",
        "  cout << endl << madLib;\n",
        "\n",
        "  return 0;\n",
        "}\n"
      ]
    },
    {
      "cell_type": "code",
      "source": [
        "%%writefile input.txt\n",
        "DARN\n",
        "HAPPILY\n",
        "CAR\n",
        "GOOD\n"
      ],
      "metadata": {
        "colab": {
          "base_uri": "https://localhost:8080/"
        },
        "id": "e327w50JTEPM",
        "outputId": "efa7b37d-56a0-4e10-d228-968b753186db"
      },
      "execution_count": 2,
      "outputs": [
        {
          "output_type": "stream",
          "name": "stdout",
          "text": [
            "Writing input.txt\n"
          ]
        }
      ]
    },
    {
      "cell_type": "code",
      "source": [
        "%%shell\n",
        "g++ main.cpp -o out\n",
        "./out < input.txt\n"
      ],
      "metadata": {
        "colab": {
          "base_uri": "https://localhost:8080/"
        },
        "id": "oafaMp6rTTva",
        "outputId": "d63be073-7768-44f9-b7d9-7fe0c39f13e0"
      },
      "execution_count": 8,
      "outputs": [
        {
          "output_type": "stream",
          "name": "stdout",
          "text": [
            "Input your exclamation: DARN\n",
            "Input your adverb: HAPPILY\n",
            "Input your noun: CAR\n",
            "Input your adjective: GOOD\n",
            "\n",
            "DARN! he said HAPPILY as he jumped into his convertible\n",
            "CAR and drove off with his GOOD friend.\n"
          ]
        },
        {
          "output_type": "execute_result",
          "data": {
            "text/plain": []
          },
          "metadata": {},
          "execution_count": 8
        }
      ]
    }
  ]
}