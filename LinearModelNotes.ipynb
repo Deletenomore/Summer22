{
  "nbformat": 4,
  "nbformat_minor": 0,
  "metadata": {
    "colab": {
      "provenance": [],
      "authorship_tag": "ABX9TyMKUKXgchXmBX+bpLqeswU0",
      "include_colab_link": true
    },
    "kernelspec": {
      "name": "python3",
      "display_name": "Python 3"
    }
  },
  "cells": [
    {
      "cell_type": "markdown",
      "metadata": {
        "id": "view-in-github",
        "colab_type": "text"
      },
      "source": [
        "<a href=\"https://colab.research.google.com/github/everestso/Summer22/blob/main/LinearModelNotes.ipynb\" target=\"_parent\"><img src=\"https://colab.research.google.com/assets/colab-badge.svg\" alt=\"Open In Colab\"/></a>"
      ]
    },
    {
      "cell_type": "markdown",
      "metadata": {
        "id": "97aWcAkn-820"
      },
      "source": [
        "# Linear Models"
      ]
    },
    {
      "cell_type": "code",
      "metadata": {
        "id": "O53BTmut-WDE"
      },
      "source": [
        "### Includes\n",
        "# Common imports\n",
        "import numpy as np\n",
        "\n",
        "# to make this notebook's output stable across runs\n",
        "np.random.seed(42)\n",
        "\n",
        "# To plot pretty figures\n",
        "%matplotlib inline\n",
        "import matplotlib\n",
        "import matplotlib.pyplot as plt\n",
        "\n",
        "import pandas as pd\n",
        "\n",
        "import math"
      ],
      "execution_count": 1,
      "outputs": []
    },
    {
      "cell_type": "code",
      "metadata": {
        "id": "0dk6lRzv0pEE",
        "outputId": "b33b83e9-21c4-493e-e311-38a9b66c1f2f",
        "colab": {
          "base_uri": "https://localhost:8080/"
        }
      },
      "source": [
        "import os\n",
        "from google.colab import drive\n",
        "\n",
        "drive.mount('/content/gdrive')"
      ],
      "execution_count": 2,
      "outputs": [
        {
          "output_type": "stream",
          "name": "stdout",
          "text": [
            "Mounted at /content/gdrive\n"
          ]
        }
      ]
    },
    {
      "cell_type": "code",
      "metadata": {
        "id": "cX2Qjzgq_jtN",
        "outputId": "f7dada2e-31ae-45b0-9375-b64d17a6cae9",
        "colab": {
          "base_uri": "https://localhost:8080/",
          "height": 448
        }
      },
      "source": [
        "def RoundIt(x, p=0.01):\n",
        "  return round(x-(p/2),3), round(x+(p/2),3)\n",
        "\n",
        "eps = 5.0\n",
        "coef = (1, 2)\n",
        "w = (0, 0)\n",
        "Noise = lambda eps: np.random.random()*eps - (eps/2)\n",
        "G = lambda xIn: 1/(1+np.e**(-xIn))\n",
        "\n",
        "F = lambda w, x: w[0] + w[1]*x\n",
        "X = [-7, -2, 1, 3, 7]\n",
        "Y = [F(coef, x) for x in X]\n",
        "print (Y)\n",
        "\n",
        "plt.plot(X,Y,'.')\n",
        "Hxs = [F(w, x) for x in X]\n",
        "\n",
        "plt.plot(X, Y, '.')\n",
        "plt.plot(X, Hxs, '-', color=\"green\")\n",
        "plt.show()"
      ],
      "execution_count": 3,
      "outputs": [
        {
          "output_type": "stream",
          "name": "stdout",
          "text": [
            "[-13, -3, 3, 7, 15]\n"
          ]
        },
        {
          "output_type": "display_data",
          "data": {
            "text/plain": [
              "<Figure size 640x480 with 1 Axes>"
            ],
            "image/png": "[encoded data removed]"
          },
          "metadata": {}
        }
      ]
    },
    {
      "cell_type": "code",
      "metadata": {
        "id": "-udX_q-mCBuy",
        "outputId": "7135f7c5-a47f-4355-e977-11149b382e0c",
        "colab": {
          "base_uri": "https://localhost:8080/",
          "height": 104
        }
      },
      "source": [
        "# Print Examples:\n",
        "\n",
        "Examples = list(zip(X,Y))\n",
        "\n",
        "for p in Examples:\n",
        "  print (p)"
      ],
      "execution_count": null,
      "outputs": [
        {
          "output_type": "stream",
          "text": [
            "(-7, -13)\n",
            "(-2, -3)\n",
            "(1, 3)\n",
            "(3, 7)\n",
            "(7, 15)\n"
          ],
          "name": "stdout"
        }
      ]
    },
    {
      "cell_type": "code",
      "metadata": {
        "id": "d5PyjFepD4O0",
        "outputId": "d49f31e5-d35c-43f9-eff8-124e2cbd30be",
        "colab": {
          "base_uri": "https://localhost:8080/",
          "height": 265
        }
      },
      "source": [
        "# Plot Model\n",
        "def PlotModel(X, Y, model):\n",
        "  Hxs = [F(model, x) for x in X]\n",
        "\n",
        "  plt.plot(X, Y, '.')\n",
        "  plt.plot(X, Hxs, '-', color=\"red\")\n",
        "  plt.show()\n",
        "\n",
        "PlotModel( X, Y , (0,0))"
      ],
      "execution_count": null,
      "outputs": [
        {
          "output_type": "display_data",
          "data": {
            "image/png": "[encoded data removed]",
            "text/plain": [
              "<Figure size 432x288 with 1 Axes>"
            ]
          },
          "metadata": {
            "tags": []
          }
        }
      ]
    },
    {
      "cell_type": "code",
      "metadata": {
        "id": "j8t8XSMbYfTe"
      },
      "source": [
        "SquaredError = lambda X, Y, w : sum([(y-F(w, x))**2 for x,y in zip(X,Y)])\n",
        "SquaredErrorLogistic = lambda X, Y, w : sum([(y-G(F(w, x)))**2 for x,y in zip(X,Y)])\n"
      ],
      "execution_count": null,
      "outputs": []
    },
    {
      "cell_type": "code",
      "metadata": {
        "id": "p631BhDHLcT6",
        "colab": {
          "base_uri": "https://localhost:8080/",
          "height": 86
        },
        "outputId": "85108b2d-100c-4c3e-8c2d-3af910543949"
      },
      "source": [
        "print (\"X=\", X)\n",
        "print (\"Y=\", Y)\n",
        "w= (0,0)\n",
        "w=(0,1)\n",
        "w=(0,0)\n",
        "Predicts = [F(w, x) for x in X]\n",
        "Errors = [x*(y-F(w, x)) for x, y in zip(X,Y)]\n",
        "print (\"Predicts = \", Predicts)\n",
        "print (\"Errors=\", Errors, sum(Errors), sum(Errors)/len(X))\n"
      ],
      "execution_count": null,
      "outputs": [
        {
          "output_type": "stream",
          "text": [
            "X= [-7, -2, 1, 3, 7]\n",
            "Y= [-13, -3, 3, 7, 15]\n",
            "Predicts =  [0, 0, 0, 0, 0]\n",
            "Errors= [91, 6, 3, 21, 105] 226 45.2\n"
          ],
          "name": "stdout"
        }
      ]
    },
    {
      "cell_type": "code",
      "metadata": {
        "id": "kR-25-bGZSIa",
        "outputId": "feb7c47a-489d-4507-d052-b470175fd9d9",
        "colab": {
          "base_uri": "https://localhost:8080/",
          "height": 104
        }
      },
      "source": [
        "ws= [(0,0), (0,1), (1,0), (1,1), (1,2)]\n",
        "for model in ws:\n",
        "  print (model, SquaredError(X, Y, model), RoundIt(SquaredError(X, Y, model), 1))"
      ],
      "execution_count": null,
      "outputs": [
        {
          "output_type": "stream",
          "text": [
            "(0, 0) 461 (460.5, 461.5)\n",
            "(0, 1) 121 (120.5, 121.5)\n",
            "(1, 0) 448 (447.5, 448.5)\n",
            "(1, 1) 112 (111.5, 112.5)\n",
            "(1, 2) 0 (-0.5, 0.5)\n"
          ],
          "name": "stdout"
        }
      ]
    },
    {
      "cell_type": "code",
      "metadata": {
        "id": "g1UAIRzrbFry",
        "outputId": "45f6b87f-ce71-4047-b579-38bf9a6e4ba7",
        "colab": {
          "base_uri": "https://localhost:8080/",
          "height": 104
        }
      },
      "source": [
        "## Average Gradients\n",
        "w = ws[0]\n",
        "data = [(x,y) for x, y in zip(zip(np.ones(len(X)), X), Y)]\n",
        "Gradients = np.array([ ( (y-F(w,x[1]))*x[0], (y-F(w,x[1]))*x[1] ) for (x, y) in data ])\n",
        "print(Gradients)"
      ],
      "execution_count": null,
      "outputs": [
        {
          "output_type": "stream",
          "text": [
            "[[-13.  91.]\n",
            " [ -3.   6.]\n",
            " [  3.   3.]\n",
            " [  7.  21.]\n",
            " [ 15. 105.]]\n"
          ],
          "name": "stdout"
        }
      ]
    },
    {
      "cell_type": "code",
      "metadata": {
        "id": "O0PAHyDXjVsf",
        "outputId": "9d34ca20-6922-4e9d-9ebe-a73dc3098e3d",
        "colab": {
          "base_uri": "https://localhost:8080/",
          "height": 69
        }
      },
      "source": [
        "GradientBatch = np.array([0.0, 0.0])\n",
        "for g in Gradients:\n",
        "  GradientBatch += g\n",
        "GradientBatch = GradientBatch/len(Gradients)\n",
        "print (GradientBatch)\n",
        "for g in GradientBatch:\n",
        "  print (g, RoundIt(g*0.01), g*0.01)"
      ],
      "execution_count": null,
      "outputs": [
        {
          "output_type": "stream",
          "text": [
            "[ 1.8 45.2]\n",
            "1.8 (0.013, 0.023) 0.018000000000000002\n",
            "45.2 (0.447, 0.457) 0.452\n"
          ],
          "name": "stdout"
        }
      ]
    },
    {
      "cell_type": "code",
      "metadata": {
        "id": "-5fjGr8AkdzX",
        "outputId": "9bd1fe1b-7b0c-4ae8-eee3-13e351737370",
        "colab": {
          "base_uri": "https://localhost:8080/",
          "height": 84
        }
      },
      "source": [
        "wNew = np.add(w, GradientBatch*learningRate)\n",
        "print (w, SquaredError(X, Y, w))\n",
        "for model in [np.add(w, GradientBatch*learningRate) for learningRate in (0.01, 0.1, 1.0)]:\n",
        "  #print (model, SquaredError(X, Y, model))\n",
        "  print (model, RoundIt(model[0],0.2), RoundIt(model[1],1))"
      ],
      "execution_count": null,
      "outputs": [
        {
          "output_type": "stream",
          "text": [
            "(0, 0) 461\n",
            "[0.018 0.452] (-0.082, 0.118) (-0.048, 0.952)\n",
            "[0.18 4.52] (0.08, 0.28) (4.02, 5.02)\n",
            "[ 1.8 45.2] (1.7, 1.9) (44.7, 45.7)\n"
          ],
          "name": "stdout"
        }
      ]
    },
    {
      "cell_type": "code",
      "metadata": {
        "id": "Hk--iezR7JQQ",
        "outputId": "7c1b58fa-60cc-48eb-b37f-dffc4bbfaecc",
        "colab": {
          "base_uri": "https://localhost:8080/",
          "height": 52
        }
      },
      "source": [
        "print (SquaredError(X, Y, (0.018, 0.452)))\n",
        "print (SquaredError(X, Y, (0.18, 4.52)))\n"
      ],
      "execution_count": null,
      "outputs": [
        {
          "output_type": "stream",
          "text": [
            "279.28821199999993\n",
            "706.3411999999998\n"
          ],
          "name": "stdout"
        }
      ]
    },
    {
      "cell_type": "code",
      "metadata": {
        "id": "4SzviiEwmEF4",
        "outputId": "5fe94fca-9778-405e-d015-a07d839c7e62",
        "colab": {
          "base_uri": "https://localhost:8080/",
          "height": 265
        }
      },
      "source": [
        "PlotModel(X, Y, [0.09, 2.26])"
      ],
      "execution_count": null,
      "outputs": [
        {
          "output_type": "display_data",
          "data": {
            "image/png": "[encoded data removed]",
            "text/plain": [
              "<Figure size 432x288 with 1 Axes>"
            ]
          },
          "metadata": {
            "tags": []
          }
        }
      ]
    },
    {
      "cell_type": "markdown",
      "metadata": {
        "id": "nd7eLKfx0wkL"
      },
      "source": [
        "# Logistic Regression"
      ]
    },
    {
      "cell_type": "code",
      "metadata": {
        "id": "7E8nsibXrfwR",
        "outputId": "ca174897-935d-44a2-e552-057a74cb1243",
        "colab": {
          "base_uri": "https://localhost:8080/",
          "height": 104
        }
      },
      "source": [
        "Predict = lambda x: 1.0 if x > 0.5 else 0.0\n",
        "w = (0,0)\n",
        "Y = [Predict(G(F(coef, x))) for x in X]\n",
        "for x, y in zip(X, Y):\n",
        "  print (x, y)"
      ],
      "execution_count": null,
      "outputs": [
        {
          "output_type": "stream",
          "text": [
            "-7 0.0\n",
            "-2 0.0\n",
            "1 1.0\n",
            "3 1.0\n",
            "7 1.0\n"
          ],
          "name": "stdout"
        }
      ]
    },
    {
      "cell_type": "code",
      "metadata": {
        "id": "0THLfoDtnq9T",
        "outputId": "e771a55f-eedd-436b-f41f-e6886e5cd35d",
        "colab": {
          "base_uri": "https://localhost:8080/",
          "height": 265
        }
      },
      "source": [
        "def PlotLogisticData(X, Y, model):\n",
        "  posX = []\n",
        "  posY = []\n",
        "  negX = []\n",
        "  negY = []\n",
        "  for x, y in zip(X,Y):\n",
        "    if y:\n",
        "      posX += [x]\n",
        "      posY += [Predict(G(F(model,x)))]\n",
        "    else:\n",
        "      negX += [x]\n",
        "      negY += [Predict(G(F(model,x)))]\n",
        "  plt.plot(posX, posY, '+', color='green')\n",
        "  plt.plot(negX, negY, 'o', color='red')\n",
        "  plt.show()\n",
        "PlotLogisticData(X, Y, w)"
      ],
      "execution_count": null,
      "outputs": [
        {
          "output_type": "display_data",
          "data": {
            "image/png": "[encoded data removed]",
            "text/plain": [
              "<Figure size 432x288 with 1 Axes>"
            ]
          },
          "metadata": {
            "tags": []
          }
        }
      ]
    },
    {
      "cell_type": "code",
      "metadata": {
        "id": "PCgj7bHLPvyM",
        "colab": {
          "base_uri": "https://localhost:8080/",
          "height": 86
        },
        "outputId": "38c32d57-412d-4be3-bdd6-1627792b53a8"
      },
      "source": [
        "print (\"X=\", X)\n",
        "print (\"Y=\", Y)\n",
        "w= (0,0)\n",
        "w=(0,1)\n",
        "w=(0,0)\n",
        "Predicts = [F(w, x) for x in X]\n",
        "Errors = [x*(y-G(F(w, x))) for x, y in zip(X,Y)]\n",
        "print (\"Predicts = \", Predicts)\n",
        "print (\"Errors=\", Errors, sum(Errors), sum(Errors)/len(X))\n"
      ],
      "execution_count": null,
      "outputs": [
        {
          "output_type": "stream",
          "text": [
            "X= [-7, -2, 1, 3, 7]\n",
            "Y= [0.0, 0.0, 1.0, 1.0, 1.0]\n",
            "Predicts =  [0, 0, 0, 0, 0]\n",
            "Errors= [3.5, 1.0, 0.5, 1.5, 3.5] 10.0 2.0\n"
          ],
          "name": "stdout"
        }
      ]
    },
    {
      "cell_type": "code",
      "metadata": {
        "id": "VTCTItCC2fgJ",
        "outputId": "3172beb9-fe01-4372-8fbe-dea83deab284",
        "colab": {
          "base_uri": "https://localhost:8080/",
          "height": 104
        }
      },
      "source": [
        "ws= [(0,0), (0,1), (1,0), (1,1), (1,2)]\n",
        "for model in ws:\n",
        "  print (model, SquaredErrorLogistic(X, Y, model), RoundIt(SquaredErrorLogistic(X, Y, model),0.1) )"
      ],
      "execution_count": null,
      "outputs": [
        {
          "output_type": "stream",
          "text": [
            "(0, 0) 1.25 (1.2, 1.3)\n",
            "(0, 1) 0.0887896982223366 (0.039, 0.139)\n",
            "(1, 0) 1.2858817551625858 (1.236, 1.336)\n",
            "(1, 1) 0.0868685548209095 (0.037, 0.137)\n",
            "(1, 2) 0.004499256912790766 (-0.046, 0.054)\n"
          ],
          "name": "stdout"
        }
      ]
    },
    {
      "cell_type": "code",
      "metadata": {
        "id": "kFEoYgJztCvn",
        "outputId": "4967527d-0a8a-40db-8805-a5dede5d91ef",
        "colab": {
          "base_uri": "https://localhost:8080/",
          "height": 101
        }
      },
      "source": [
        "## Average Gradients\n",
        "w = ws[0]\n",
        "data = [(x,y) for x, y in zip(zip(np.ones(len(X)), X), Y)]\n",
        "Gradients = np.array([ ( (y-G(F(w,x[1])))*x[0], (y-G(F(w,x[1])))*x[1] ) for (x, y) in data ])\n",
        "print(Gradients)"
      ],
      "execution_count": null,
      "outputs": [
        {
          "output_type": "stream",
          "text": [
            "[[-0.5  3.5]\n",
            " [-0.5  1. ]\n",
            " [ 0.5  0.5]\n",
            " [ 0.5  1.5]\n",
            " [ 0.5  3.5]]\n"
          ],
          "name": "stdout"
        }
      ]
    },
    {
      "cell_type": "code",
      "metadata": {
        "id": "Ap9AZTZatT_n",
        "outputId": "8097f26a-a8b8-41da-9343-1dc7e35d41e6",
        "colab": {
          "base_uri": "https://localhost:8080/",
          "height": 50
        }
      },
      "source": [
        "GradientBatch = np.array([0.0, 0.0])\n",
        "for g in Gradients:\n",
        "  GradientBatch += g\n",
        "GradientBatch = GradientBatch/len(Gradients)\n",
        "print (GradientBatch)\n",
        "print (X, Y)"
      ],
      "execution_count": null,
      "outputs": [
        {
          "output_type": "stream",
          "text": [
            "[0.1 2. ]\n",
            "[-7, -2, 1, 3, 7] [0.0, 0.0, 1.0, 1.0, 1.0]\n"
          ],
          "name": "stdout"
        }
      ]
    },
    {
      "cell_type": "code",
      "metadata": {
        "id": "UPCCYrMdtZsf",
        "outputId": "75766115-fce8-4a19-985b-1401dfd2c6c0",
        "colab": {
          "base_uri": "https://localhost:8080/",
          "height": 151
        }
      },
      "source": [
        "wNew = np.add(w, GradientBatch*learningRate)\n",
        "print (wNew)\n",
        "print (w)\n",
        "print (SquaredErrorLogistic(X, Y, (0,0)))\n",
        "print (w, SquaredErrorLogistic(X, Y, w))\n",
        "for model in [np.add(w, GradientBatch*learningRate) for learningRate in (1, 1)]:\n",
        "  print (model, SquaredErrorLogistic(X, Y, model))\n",
        "  print (model, RoundIt(model[0],0.1), RoundIt(model[1],1.0))"
      ],
      "execution_count": null,
      "outputs": [
        {
          "output_type": "stream",
          "text": [
            "[0.01 0.2 ]\n",
            "(0, 0)\n",
            "1.25\n",
            "(0, 0) 1.25\n",
            "[0.1 2. ] 0.012300762094024014\n",
            "[0.1 2. ] (0.05, 0.15) (1.5, 2.5)\n",
            "[0.1 2. ] 0.012300762094024014\n",
            "[0.1 2. ] (0.05, 0.15) (1.5, 2.5)\n"
          ],
          "name": "stdout"
        }
      ]
    },
    {
      "cell_type": "code",
      "metadata": {
        "id": "rrjzRLN6xo-0",
        "outputId": "3e0747b1-f7da-4a03-afd5-d9b13d9abf35",
        "colab": {
          "base_uri": "https://localhost:8080/",
          "height": 282
        }
      },
      "source": [
        "PlotLogisticData(X, Y, (0.1, 2))\n",
        "print (np.log10(2))"
      ],
      "execution_count": null,
      "outputs": [
        {
          "output_type": "display_data",
          "data": {
            "image/png": "[encoded data removed]",
            "text/plain": [
              "<Figure size 432x288 with 1 Axes>"
            ]
          },
          "metadata": {
            "tags": []
          }
        },
        {
          "output_type": "stream",
          "text": [
            "0.3010299956639812\n"
          ],
          "name": "stdout"
        }
      ]
    },
    {
      "cell_type": "code",
      "metadata": {
        "id": "PyZ1eIhaRt8T",
        "colab": {
          "base_uri": "https://localhost:8080/",
          "height": 34
        },
        "outputId": "5f2425ba-430c-4531-85b5-17b9f68df3bc"
      },
      "source": [
        "print (G(14.1))"
      ],
      "execution_count": null,
      "outputs": [
        {
          "output_type": "stream",
          "text": [
            "0.9999992476022669\n"
          ],
          "name": "stdout"
        }
      ]
    }
  ]
}